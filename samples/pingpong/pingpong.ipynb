{
 "cells": [
  {
   "cell_type": "raw",
   "metadata": {},
   "source": [
    "process #pragma templet ...  in 'pingpong.cpp' file (reload the file after processing, if needed)"
   ]
  },
  {
   "cell_type": "code",
   "execution_count": 7,
   "metadata": {},
   "outputs": [
    {
     "name": "stdout",
     "output_type": "stream",
     "text": [
      "line:33\n",
      "!ping(p!hello)\n",
      "line:74\n",
      "pong(p?hello,t:everest)\n",
      "Ok"
     ]
    }
   ],
   "source": [
    "!~/bin/acta pingpong.cpp"
   ]
  },
  {
   "cell_type": "raw",
   "metadata": {},
   "source": [
    "get Everest access token using password authentication"
   ]
  },
  {
   "cell_type": "code",
   "execution_count": 3,
   "metadata": {},
   "outputs": [
    {
     "ename": "SyntaxError",
     "evalue": "invalid syntax (<ipython-input-3-3eb454c51b13>, line 4)",
     "output_type": "error",
     "traceback": [
      "\u001b[0;36m  File \u001b[0;32m\"<ipython-input-3-3eb454c51b13>\"\u001b[0;36m, line \u001b[0;32m4\u001b[0m\n\u001b[0;31m    templet::everest_engine teng(\"login\",\"password\");\u001b[0m\n\u001b[0m            ^\u001b[0m\n\u001b[0;31mSyntaxError\u001b[0m\u001b[0;31m:\u001b[0m invalid syntax\n"
     ]
    }
   ],
   "source": [
    "#pragma cling load(\"libcurl\")\n",
    "#include \"../../lib/everest.hpp\"\n",
    "{\n",
    "    templet::everest_engine teng(\"login\",\"password\");\n",
    "    teng.save_access_token();\n",
    "    if (teng) { string token; teng.get_access_token(token); std::cout << token;}\n",
    "    else {std::cout << \"--- authentication failed ---\";}\n",
    "}"
   ]
  },
  {
   "cell_type": "raw",
   "metadata": {},
   "source": [
    "get Everest application(s) description using access token and application name"
   ]
  },
  {
   "cell_type": "code",
   "execution_count": null,
   "metadata": {},
   "outputs": [],
   "source": [
    "#pragma cling load(\"libcurl\")\n",
    "#include \"../../lib/everest.hpp\"\n",
    "{\n",
    "    templet::everest_engine teng(\"access-token\");\n",
    "    teng.print_app_description(\"application-name\");\n",
    "}"
   ]
  },
  {
   "cell_type": "raw",
   "metadata": {},
   "source": [
    "compile 'pingpong.cpp' file"
   ]
  },
  {
   "cell_type": "code",
   "execution_count": 5,
   "metadata": {},
   "outputs": [
    {
     "name": "stdout",
     "output_type": "stream",
     "text": [
      "In file included from \u001b[01m\u001b[Kpingpong.cpp:21:0\u001b[m\u001b[K:\n",
      "\u001b[01m\u001b[K/root/lib/everest.hpp:18:23:\u001b[m\u001b[K \u001b[01;31m\u001b[Kfatal error: \u001b[m\u001b[Kcurl/curl.h: No such file or directory\n",
      "compilation terminated.\n"
     ]
    }
   ],
   "source": [
    "!g++ pingpong.cpp -l curl -I ~/lib -o pingpong"
   ]
  },
  {
   "cell_type": "raw",
   "metadata": {},
   "source": [
    "run pingpong sample"
   ]
  },
  {
   "cell_type": "code",
   "execution_count": 6,
   "metadata": {},
   "outputs": [
    {
     "name": "stdout",
     "output_type": "stream",
     "text": [
      "/bin/sh: 1: ./pingpong: not found\n"
     ]
    }
   ],
   "source": [
    "!./pingpong"
   ]
  },
  {
   "cell_type": "markdown",
   "metadata": {},
   "source": [
    "How to setup the new Everest echo application\n",
    "---------------------------------------------\n",
    "1. Enter Name and Alias on the Metadata tab.\n",
    "2. Enter input-string:string and output-string:string on the Parameters tab.\n",
    "3. For Windows: enter the Command: 'cmd.exe /c echo ECHO:${input-string} > out.txt', when enter the Output Mappings: output-string --> out.txt on the Configuration tab.\n",
    "4. Select a resource to run your application (it should be a Windows machine).\n",
    "     \n",
    "See the page http://everest.distcomp.org/docs/tutorial/#_adding_applications for details."
   ]
  }
 ],
 "metadata": {
  "kernelspec": {
   "display_name": "Python 3",
   "language": "python",
   "name": "python3"
  },
  "language_info": {
   "codemirror_mode": {
    "name": "ipython",
    "version": 3
   },
   "file_extension": ".py",
   "mimetype": "text/x-python",
   "name": "python",
   "nbconvert_exporter": "python",
   "pygments_lexer": "ipython3",
   "version": "3.8.5"
  }
 },
 "nbformat": 4,
 "nbformat_minor": 4
}
