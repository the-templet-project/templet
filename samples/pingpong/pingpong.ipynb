{
 "cells": [
  {
   "cell_type": "markdown",
   "metadata": {},
   "source": [
    "```\n",
    "process #pragma templet ...  in 'pingpong.cpp' file (reload the file after processing, if needed)\n",
    "```"
   ]
  },
  {
   "cell_type": "code",
   "execution_count": null,
   "metadata": {},
   "outputs": [],
   "source": [
    "!../../bin/acta pingpong.cpp"
   ]
  },
  {
   "cell_type": "markdown",
   "metadata": {},
   "source": [
    "```\n",
    "get Everest access token using password authentication\n",
    "```"
   ]
  },
  {
   "cell_type": "code",
   "execution_count": null,
   "metadata": {
    "tags": []
   },
   "outputs": [],
   "source": [
    "#pragma cling load(\"libcurl\")\n",
    "#pragma cling add_include_path(\"../../lib/opt\")\n",
    "#include \"../../lib/everest.hpp\"\n",
    "{\n",
    "    templet::everest_engine teng(\"login\",\"password\");\n",
    "    teng.save_access_token();\n",
    "    if (teng) { string token; teng.get_access_token(token); std::cout << token;}\n",
    "    else {std::cout << \"--- authentication failed ---\";}\n",
    "}"
   ]
  },
  {
   "cell_type": "markdown",
   "metadata": {},
   "source": [
    "```\n",
    "get Everest application(s) description using access token and application name\n",
    "```"
   ]
  },
  {
   "cell_type": "code",
   "execution_count": null,
   "metadata": {
    "tags": []
   },
   "outputs": [],
   "source": [
    "#pragma cling load(\"libcurl\")\n",
    "#pragma cling add_include_path(\"../../lib/opt\")\n",
    "#include \"../../lib/everest.hpp\"\n",
    "{\n",
    "    templet::everest_engine teng(\"access-token\");\n",
    "    teng.print_app_description(\"application-name\");\n",
    "}"
   ]
  },
  {
   "cell_type": "markdown",
   "metadata": {},
   "source": [
    "```\n",
    "compile 'pingpong.cpp' file\n",
    "```"
   ]
  },
  {
   "cell_type": "code",
   "execution_count": null,
   "metadata": {},
   "outputs": [],
   "source": [
    "!g++ pingpong.cpp -l curl -I ../../lib -I ../../lib/opt -o pingpong"
   ]
  },
  {
   "cell_type": "markdown",
   "metadata": {},
   "source": [
    "```\n",
    "run pingpong sample\n",
    "```"
   ]
  },
  {
   "cell_type": "code",
   "execution_count": null,
   "metadata": {},
   "outputs": [],
   "source": [
    "!./pingpong"
   ]
  },
  {
   "cell_type": "markdown",
   "metadata": {},
   "source": [
    "How to setup the new Everest echo application\n",
    "---------------------------------------------\n",
    "1. Enter Name and Alias on the Metadata tab.\n",
    "2. Enter input-string:string and output-string:string on the Parameters tab.\n",
    "3. For Windows: enter the Command: 'cmd.exe /c echo ECHO:${input-string} > out.txt', when enter the Output Mappings: output-string --> out.txt on the Configuration tab.\n",
    "4. Select a resource to run your application (it should be a Windows machine).\n",
    "     \n",
    "See the page http://everest.distcomp.org/docs/tutorial/#_adding_applications for details."
   ]
  }
 ],
 "metadata": {
  "kernelspec": {
   "display_name": "C++11",
   "language": "C++11",
   "name": "xcpp11"
  },
  "language_info": {
   "codemirror_mode": "text/x-c++src",
   "file_extension": ".cpp",
   "mimetype": "text/x-c++src",
   "name": "c++",
   "version": "11"
  }
 },
 "nbformat": 4,
 "nbformat_minor": 4
}
