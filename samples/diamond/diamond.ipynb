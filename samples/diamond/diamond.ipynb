{
 "cells": [
  {
   "cell_type": "raw",
   "metadata": {},
   "source": [
    "process #pragma templet ...  in 'diamond.hpp' file (reload the file after processing, if needed)"
   ]
  },
  {
   "cell_type": "code",
   "execution_count": null,
   "metadata": {
    "tags": []
   },
   "outputs": [],
   "source": [
    "!../../bin/acta diamond.hpp"
   ]
  },
  {
   "cell_type": "raw",
   "metadata": {},
   "source": [
    "run diamond sample"
   ]
  },
  {
   "cell_type": "code",
   "execution_count": null,
   "metadata": {},
   "outputs": [],
   "source": [
    "#pragma cling add_include_path(\"../../lib/\")\n",
    "#include \"diamond.hpp\"\n",
    "#include <iostream>\n",
    "{\n",
    "\tengine eng;\n",
    "\tbasesim_engine teng;\n",
    "\n",
    "\t//     A(1)     |\n",
    "\t//    /    \\    |\n",
    "\t//  B(2)  C(3)  |\n",
    "\t//    \\    /    |\n",
    "\t//     D(4)     V\n",
    "\n",
    "\tA a(eng,teng);\n",
    "\tB b(eng,teng);\n",
    "\tC c(eng,teng);\n",
    "\tD d(eng,teng);\n",
    "\n",
    "\ta.delay = 1.0;\n",
    "\tb.delay = 2.0;\n",
    "\tc.delay = 3.0;\n",
    "\td.delay = 4.0;\n",
    "\n",
    "\tb.a(a.b); c.a(a.c);\n",
    "\td.b(b.d); d.c(c.d);\n",
    "\n",
    "\teng.start();\n",
    "\tteng.run();\n",
    "\n",
    "\tif (eng.stopped()) {\n",
    "\t\tstd::cout << \"Success!!!\" << std::endl;\n",
    "\t\t\n",
    "\t\tstd::cout << \"Maximum number of tasks executed in parallel : \" << teng.Pmax() << std::endl;\n",
    "\t\tstd::cout << \"Time of sequential execution of all tasks    : \" << teng.T1() << std::endl;\n",
    "\t\tstd::cout << \"Time of parallel   execution of all tasks    : \" << teng.Tp() << std::endl;\n",
    "\t}\n",
    "\telse std::cout << \"Failure...\" << std::endl;\n",
    "}"
   ]
  },
  {
   "cell_type": "markdown",
   "metadata": {},
   "source": [
    "```\n",
    "alternative way to run the diamond sample from the Terminal:\n",
    "1) cd ~/samples/diamond\n",
    "2) g++ diamond.cpp -I ~/lib -o diamond\n",
    "3) ./diamond\n",
    "```"
   ]
  },
  {
   "cell_type": "code",
   "execution_count": null,
   "metadata": {},
   "outputs": [],
   "source": [
    "!g++ diamond.cpp -I ../../lib -o diamond"
   ]
  },
  {
   "cell_type": "code",
   "execution_count": null,
   "metadata": {
    "tags": []
   },
   "outputs": [],
   "source": [
    "!./diamond"
   ]
  }
 ],
 "metadata": {
  "kernelspec": {
   "display_name": "C++11",
   "language": "C++11",
   "name": "xcpp11"
  },
  "language_info": {
   "codemirror_mode": "text/x-c++src",
   "file_extension": ".cpp",
   "mimetype": "text/x-c++src",
   "name": "c++",
   "version": "11"
  }
 },
 "nbformat": 4,
 "nbformat_minor": 4
}
