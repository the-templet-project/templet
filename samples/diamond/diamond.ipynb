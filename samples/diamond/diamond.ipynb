{
 "cells": [
  {
   "cell_type": "raw",
   "metadata": {},
   "source": [
    "process #pragma templet ...  in 'diamond.hpp' file (reload the file after processing, if needed)"
   ]
  },
  {
   "cell_type": "code",
   "execution_count": 1,
   "metadata": {
    "tags": []
   },
   "outputs": [
    {
     "name": "stdout",
     "output_type": "stream",
     "text": [
      "line:24\n",
      "!A(b!message,c!message,t:basesim)\n",
      "line:86\n",
      "B(a?message,d!message,t:basesim)\n",
      "line:142\n",
      "C(a?message,d!message,t:basesim)\n",
      "line:198\n",
      "D(b?message,c?message,t:basesim)\n",
      "Ok"
     ]
    }
   ],
   "source": [
    "!~/bin/acta diamond.hpp"
   ]
  },
  {
   "cell_type": "raw",
   "metadata": {},
   "source": [
    "run diamond sample"
   ]
  },
  {
   "cell_type": "code",
   "execution_count": 2,
   "metadata": {},
   "outputs": [
    {
     "name": "stdout",
     "output_type": "stream",
     "text": [
      "Success!!!\n",
      "Maximum number of tasks executed in parallel : 2\n",
      "Time of sequential execution of all tasks    : 10\n",
      "Time of parallel   execution of all tasks    : 8\n"
     ]
    }
   ],
   "source": [
    "#pragma cling add_include_path(\"../../lib/\")\n",
    "#include \"diamond.hpp\"\n",
    "#include <iostream>\n",
    "{\n",
    "\tengine eng;\n",
    "\tbasesim_engine teng;\n",
    "\n",
    "\t//     A(1)     |\n",
    "\t//    /    \\    |\n",
    "\t//  B(2)  C(3)  |\n",
    "\t//    \\    /    |\n",
    "\t//     D(4)     V\n",
    "\n",
    "\tA a(eng,teng);\n",
    "\tB b(eng,teng);\n",
    "\tC c(eng,teng);\n",
    "\tD d(eng,teng);\n",
    "\n",
    "\ta.delay = 1.0;\n",
    "\tb.delay = 2.0;\n",
    "\tc.delay = 3.0;\n",
    "\td.delay = 4.0;\n",
    "\n",
    "\tb.a(a.b); c.a(a.c);\n",
    "\td.b(b.d); d.c(c.d);\n",
    "\n",
    "\teng.start();\n",
    "\tteng.run();\n",
    "\n",
    "\tif (eng.stopped()) {\n",
    "\t\tstd::cout << \"Success!!!\" << std::endl;\n",
    "\t\t\n",
    "\t\tstd::cout << \"Maximum number of tasks executed in parallel : \" << teng.Pmax() << std::endl;\n",
    "\t\tstd::cout << \"Time of sequential execution of all tasks    : \" << teng.T1() << std::endl;\n",
    "\t\tstd::cout << \"Time of parallel   execution of all tasks    : \" << teng.Tp() << std::endl;\n",
    "\t}\n",
    "\telse std::cout << \"Failure...\" << std::endl;\n",
    "}"
   ]
  },
  {
   "cell_type": "raw",
   "metadata": {},
   "source": [
    "alternative way to run the diamond sample from the Terminal:\n",
    "1) cd ~/samples/diamond\n",
    "2) g++ diamond.cpp -I ~/lib -o diamond\n",
    "3) ./diamond"
   ]
  },
  {
   "cell_type": "code",
   "execution_count": 3,
   "metadata": {},
   "outputs": [
    {
     "name": "stdout",
     "output_type": "stream",
     "text": [
      "In file included from diamond.cpp:17:0:\n",
      "diamond.hpp: In constructor ‘A::A(templet::engine&, templet::basesim_engine&)’:\n",
      "diamond.hpp:34:61: warning: delegating constructors only available with -std=c++11 or -std=gnu++11\n",
      "  A(templet::engine&e,templet::basesim_engine&te_basesim) :A() {\n",
      "                                                             ^\n",
      "diamond.hpp: In constructor ‘B::B(templet::engine&, templet::basesim_engine&)’:\n",
      "diamond.hpp:96:61: warning: delegating constructors only available with -std=c++11 or -std=gnu++11\n",
      "  B(templet::engine&e,templet::basesim_engine&te_basesim) :B() {\n",
      "                                                             ^\n",
      "diamond.hpp: In constructor ‘C::C(templet::engine&, templet::basesim_engine&)’:\n",
      "diamond.hpp:152:61: warning: delegating constructors only available with -std=c++11 or -std=gnu++11\n",
      "  C(templet::engine&e,templet::basesim_engine&te_basesim) :C() {\n",
      "                                                             ^\n",
      "diamond.hpp: In constructor ‘D::D(templet::engine&, templet::basesim_engine&)’:\n",
      "diamond.hpp:208:61: warning: delegating constructors only available with -std=c++11 or -std=gnu++11\n",
      "  D(templet::engine&e,templet::basesim_engine&te_basesim) :D() {\n",
      "                                                             ^\n"
     ]
    }
   ],
   "source": [
    "!g++ diamond.cpp -I ~/lib -o diamond"
   ]
  },
  {
   "cell_type": "code",
   "execution_count": 4,
   "metadata": {
    "tags": []
   },
   "outputs": [
    {
     "name": "stdout",
     "output_type": "stream",
     "text": [
      "Success!!!\n",
      "Maximum number of tasks executed in parallel : 2\n",
      "Time of sequential execution of all tasks    : 10\n",
      "Time of parallel   execution of all tasks    : 8\n"
     ]
    }
   ],
   "source": [
    "!./diamond"
   ]
  },
  {
   "cell_type": "code",
   "execution_count": null,
   "metadata": {},
   "outputs": [],
   "source": []
  }
 ],
 "metadata": {
  "kernelspec": {
   "display_name": "C++11",
   "language": "C++11",
   "name": "xcpp11"
  },
  "language_info": {
   "codemirror_mode": "text/x-c++src",
   "file_extension": ".cpp",
   "mimetype": "text/x-c++src",
   "name": "c++",
   "version": "-std=c++11"
  }
 },
 "nbformat": 4,
 "nbformat_minor": 4
}
