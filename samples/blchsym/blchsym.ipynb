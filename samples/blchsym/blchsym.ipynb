{
 "cells": [
  {
   "cell_type": "markdown",
   "metadata": {},
   "source": [
    "Jupyter notebook with cells for experiment control.\n",
    "The experiment results: https://docs.google.com/spreadsheets/d/1SPxBBUwkhb0Flpdqwl2ajiIvGGRyBA7fEhqNzybjed0/edit#gid=429760687"
   ]
  },
  {
   "cell_type": "markdown",
   "metadata": {},
   "source": [
    "preprocess 'blchsym.hpp'"
   ]
  },
  {
   "cell_type": "code",
   "execution_count": null,
   "metadata": {
    "tags": []
   },
   "outputs": [],
   "source": [
    "!../../bin/acta blchsym.hpp"
   ]
  },
  {
   "cell_type": "markdown",
   "metadata": {},
   "source": [
    "imitation of blockchain execution"
   ]
  },
  {
   "cell_type": "code",
   "execution_count": null,
   "metadata": {
    "tags": []
   },
   "outputs": [],
   "source": [
    "#pragma cling add_include_path(\"../../lib/\")\n",
    "\n",
    "/////////////////////////////////////////////////////////\n",
    "const int NUM_TASKS = 10;        // 10  20  30  40  50 //\n",
    "const int TASK_DELAY_IN_SEC = 10;// 10  20  30  40  50 //\n",
    "/////////////////////////////////////////////////////////\n",
    "\n",
    "const unsigned RND_SEED = 0;\n",
    "const int NUM_WORKERS = 10;\n",
    "\n",
    "#include \"blchsym.hpp\"\n",
    "\n",
    "using namespace std;\n",
    "{\n",
    "    exec_order::define();\n",
    "    exec_order::print();\n",
    "    \n",
    "    std::cout << std::endl;   \n",
    "    \n",
    " \tengine eng;\n",
    "\tbasesim_engine teng;\n",
    "\n",
    "    bchain bch(eng);\n",
    "    stopper stop(eng);\n",
    "    bworker w[NUM_WORKERS];\n",
    "    \n",
    "    for(int i=0; i<NUM_WORKERS; i++){\n",
    "        w[i].engines(eng,teng);\n",
    "        w[i].worker_ID = i;\n",
    "        bch.in(w[i].out);\n",
    "        stop.in(w[i].ready);\n",
    "    }\n",
    "    \n",
    "    stop.num_total = NUM_WORKERS;\n",
    "\n",
    "\teng.start();\n",
    "\tteng.run();\n",
    "\n",
    "\tif (eng.stopped()) {\n",
    "\t\tstd::cout << std::endl;        \n",
    "\t\tstd::cout << \"Success!!!\" << std::endl;\n",
    "\t\tstd::cout << \"Number of tasks   is \" << NUM_TASKS << endl;\n",
    "        std::cout << \"Task delay        is \" << TASK_DELAY_IN_SEC << \" seconds\" << endl;\n",
    "        std::cout << \"App executon time is \" << teng.Tp() << \" seconds\" << endl;\n",
    "\t\tstd::cout << \"Speedup (without com/sync drawbacks) : \" << NUM_TASKS * TASK_DELAY_IN_SEC / teng.Tp() << std::endl;\n",
    "    }\n",
    "\telse std::cout << \"Failure...\" << std::endl;\n",
    "}"
   ]
  },
  {
   "cell_type": "markdown",
   "metadata": {},
   "source": [
    "complile 'callee.cpp'"
   ]
  },
  {
   "cell_type": "code",
   "execution_count": null,
   "metadata": {},
   "outputs": [],
   "source": [
    "!g++ callee.cpp -o callee"
   ]
  },
  {
   "cell_type": "markdown",
   "metadata": {},
   "source": [
    "create empty 'callee.txt'"
   ]
  },
  {
   "cell_type": "code",
   "execution_count": null,
   "metadata": {},
   "outputs": [],
   "source": [
    "!touch callee.txt"
   ]
  },
  {
   "cell_type": "markdown",
   "metadata": {},
   "source": [
    "compile 'caller.cpp'"
   ]
  },
  {
   "cell_type": "code",
   "execution_count": null,
   "metadata": {},
   "outputs": [],
   "source": [
    "!g++ caller.cpp -l curl -I ~/lib -I ~/lib/opt -o caller"
   ]
  },
  {
   "cell_type": "markdown",
   "metadata": {},
   "source": [
    "model for the event log application"
   ]
  },
  {
   "cell_type": "code",
   "execution_count": null,
   "metadata": {
    "tags": []
   },
   "outputs": [],
   "source": [
    "!g++ model.cpp -fopenmp -o model"
   ]
  },
  {
   "cell_type": "code",
   "execution_count": null,
   "metadata": {
    "tags": []
   },
   "outputs": [],
   "source": [
    "!./model"
   ]
  }
 ],
 "metadata": {
  "kernelspec": {
   "display_name": "C++11",
   "language": "C++11",
   "name": "xcpp11"
  },
  "language_info": {
   "codemirror_mode": "text/x-c++src",
   "file_extension": ".cpp",
   "mimetype": "text/x-c++src",
   "name": "c++",
   "version": "11"
  }
 },
 "nbformat": 4,
 "nbformat_minor": 4
}
