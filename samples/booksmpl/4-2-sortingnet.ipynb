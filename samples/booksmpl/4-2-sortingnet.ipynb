{
 "cells": [
  {
   "cell_type": "markdown",
   "metadata": {},
   "source": [
    "process #pragma templet ... in '4-2-sortingnet.hpp' file"
   ]
  },
  {
   "cell_type": "code",
   "execution_count": 1,
   "metadata": {
    "tags": []
   },
   "outputs": [
    {
     "name": "stdout",
     "output_type": "stream",
     "text": [
      "line:17\n",
      "!Start(out!block)\n",
      "line:57\n",
      "Stop(in?block)\n",
      "line:93\n",
      "Pair(in1?block,in2?block,out1!block,out2!block)\n",
      "Ok"
     ]
    }
   ],
   "source": [
    "!../../bin/acta 4-2-sortingnet.hpp"
   ]
  },
  {
   "cell_type": "markdown",
   "metadata": {},
   "source": [
    "run the sample"
   ]
  },
  {
   "cell_type": "code",
   "execution_count": 2,
   "metadata": {},
   "outputs": [
    {
     "name": "stdout",
     "output_type": "stream",
     "text": [
      "7 3 2 8 0 1 3 6 7 5 \n",
      "\n",
      "[1,2] \n",
      "[1,3] [2,3] \n",
      "[1,4] [2,4] [3,4] \n",
      "[1,5] [2,5] [3,5] [4,5] \n",
      "[1,6] [2,6] [3,6] [4,6] [5,6] \n",
      "[1,7] [2,7] [3,7] [4,7] [5,7] [6,7] \n",
      "[1,8] [2,8] [3,8] [4,8] [5,8] [6,8] [7,8] \n",
      "[1,9] [2,9] [3,9] [4,9] [5,9] [6,9] [7,9] [8,9] \n",
      "[1,10] [2,10] [3,10] [4,10] [5,10] [6,10] [7,10] [8,10] [9,10] \n",
      "\n",
      "0 1 2 3 3 5 6 7 7 8 \n",
      "\n",
      "Success!!!"
     ]
    }
   ],
   "source": [
    "#pragma cling add_include_path(\"../../lib/\")\n",
    "\n",
    "const int N = 10;\n",
    "int arr[N];\n",
    "\n",
    "#include \"4-2-sortingnet.hpp\"\n",
    "\n",
    "struct helper{\n",
    "    helper(engine&e):eng(&e){}  \n",
    "    engine*eng;\n",
    "    block* block_arr[N];\n",
    "    \n",
    "    void start(){\n",
    "        for(int i=0; i<N; i++){\n",
    "            Start*s = new Start(*eng);\n",
    "            s->out.blockID = i;\n",
    "            block_arr[i] = &(s->out);\n",
    "        }\n",
    "    }\n",
    "    \n",
    "    void pair(int n1, int n2){\n",
    "        Pair* p = new Pair(*eng);\n",
    "        p->in1(*block_arr[n1]); p->in2(*block_arr[n2]);\n",
    "        block_arr[n1] = &(p->out1); block_arr[n2] = &(p->out2);\n",
    "    }\n",
    "    \n",
    "    void stop(){\n",
    "        Stop* s = new Stop(*eng);\n",
    "        for(int i=0; i<N; i++) s->in(*block_arr[i]);\n",
    "    }\n",
    "};\n",
    "\n",
    "engine eng; \n",
    "helper help(eng);\n",
    "\n",
    "srand(time(NULL));\n",
    "for(int i=0; i<N; i++){ arr[i] = rand()%N; cout << arr[i] << \" \";} cout << endl;        \n",
    "\n",
    "help.start();\n",
    "\n",
    "for(int b=0; b < N; b++){\n",
    "    for(int i=0; i < b; i++){ help.pair(i,b); cout << \"[\" << i+1 <<\",\"<< b+1 << \"] \";}\n",
    "    cout << endl;\n",
    "}\n",
    "\n",
    "cout << endl;\n",
    "\n",
    "help.stop();\n",
    "\n",
    "eng.start();\n",
    "\n",
    "for(int i=0; i<N; i++) cout << arr[i] << \" \";  cout << endl << endl;\n",
    "\n",
    "cout << (eng.stopped() ? \"Success!!!\" : \"Failure...\");"
   ]
  }
 ],
 "metadata": {
  "kernelspec": {
   "display_name": "C++11",
   "language": "C++11",
   "name": "xcpp11"
  },
  "language_info": {
   "codemirror_mode": "text/x-c++src",
   "file_extension": ".cpp",
   "mimetype": "text/x-c++src",
   "name": "c++",
   "version": "11"
  }
 },
 "nbformat": 4,
 "nbformat_minor": 4
}
