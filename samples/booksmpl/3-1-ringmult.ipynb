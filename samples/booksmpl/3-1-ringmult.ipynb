{
 "cells": [
  {
   "cell_type": "markdown",
   "metadata": {},
   "source": [
    "process *#pragma templet ...* in *'3-1-ringmult.hpp'* file"
   ]
  },
  {
   "cell_type": "code",
   "execution_count": 1,
   "metadata": {
    "tags": []
   },
   "outputs": [
    {
     "name": "stdout",
     "output_type": "stream",
     "text": [
      "line:34\n",
      "!Link(in?column,out!column,stop!message)\n",
      "line:102\n",
      "Stopper(in?message)\n",
      "Ok"
     ]
    }
   ],
   "source": [
    "!../../bin/acta 3-1-ringmult.hpp"
   ]
  },
  {
   "cell_type": "markdown",
   "metadata": {},
   "source": [
    "run the sample"
   ]
  },
  {
   "cell_type": "code",
   "execution_count": 2,
   "metadata": {},
   "outputs": [
    {
     "name": "stdout",
     "output_type": "stream",
     "text": [
      "  C[0,0] = 14  C[0,1] = 14  C[0,2] = 14\n",
      "  C[1,0] = 14  C[1,1] = 14  C[1,2] = 14\n",
      "  C[2,0] = 14  C[2,1] = 14  C[2,2] = 14\n",
      "\n",
      "Success!!!"
     ]
    }
   ],
   "source": [
    "#pragma cling add_include_path(\"../../lib/\")\n",
    "\n",
    "const int N = 3;\n",
    "\n",
    "double A[N][N] = { {1.0,2.0,3.0},\n",
    "                   {1.0,2.0,3.0},\n",
    "                   {1.0,2.0,3.0}};\n",
    "\n",
    "double B[N][N] = { {1.0,1.0,1.0},\n",
    "                   {2.0,2.0,2.0},\n",
    "                   {3.0,3.0,3.0}};\n",
    "\n",
    "double C[N][N] = { 0.0 };\n",
    "\n",
    "#include \"3-1-ringmult.hpp\"\n",
    "\n",
    "engine eng;\n",
    "\n",
    "Stopper stopper(eng);\n",
    "Link l[N];\n",
    "\n",
    "for(int i=0; i<N; i++){\n",
    "    l[i].engines(eng); stopper.in(l[i].stop);        \n",
    "    l[i].next = &l[(i+1)%N]; \n",
    "\n",
    "    l[i].i = i; l[i].out.j = i; \n",
    "}\n",
    "\n",
    "eng.start();\n",
    "\n",
    "for(int i=0; i<N; i++){\n",
    "    for(int j=0; j<N; j++){\n",
    "        cout << \"  C[\" << i << \",\" << j << \"] = \" << C[i][j];\n",
    "    }\n",
    "    cout << endl;\n",
    "}\n",
    "\n",
    "cout << endl;\n",
    "\n",
    "cout << (eng.stopped() ? \"Success!!!\" : \"Failure...\");"
   ]
  }
 ],
 "metadata": {
  "kernelspec": {
   "display_name": "C++11",
   "language": "C++11",
   "name": "xcpp11"
  },
  "language_info": {
   "codemirror_mode": "text/x-c++src",
   "file_extension": ".cpp",
   "mimetype": "text/x-c++src",
   "name": "c++",
   "version": "11"
  }
 },
 "nbformat": 4,
 "nbformat_minor": 4
}
