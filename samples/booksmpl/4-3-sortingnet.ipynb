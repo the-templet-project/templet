{
 "cells": [
  {
   "cell_type": "markdown",
   "metadata": {},
   "source": [
    "process #pragma templet ... in '4-2-sortingnet.hpp' file"
   ]
  },
  {
   "cell_type": "code",
   "execution_count": 2,
   "metadata": {
    "tags": []
   },
   "outputs": [
    {
     "name": "stdout",
     "output_type": "stream",
     "text": [
      "line:17\n",
      "!Start(out!block)\n",
      "line:57\n",
      "Stop(in?block)\n",
      "line:93\n",
      "Pair(in1?block,in2?block,out1!block,out2!block)\n",
      "Ok"
     ]
    }
   ],
   "source": [
    "!../../bin/acta 4-2-sortingnet.hpp"
   ]
  },
  {
   "cell_type": "markdown",
   "metadata": {},
   "source": [
    "run the sample"
   ]
  },
  {
   "cell_type": "code",
   "execution_count": 3,
   "metadata": {},
   "outputs": [
    {
     "name": "stdout",
     "output_type": "stream",
     "text": [
      "6 4 4 0 7 4 7 8 1 2 \n",
      "\n",
      "[0,1] [3,4] [2,4] \n",
      "[2,3] \n",
      "[0,4] [1,4] \n",
      "[0,3] [1,3] \n",
      "[0,2] [1,2] \n",
      "[5,6] [8,9] [7,9] \n",
      "[7,8] \n",
      "[5,9] [6,9] \n",
      "[5,8] [6,8] \n",
      "[5,7] [6,7] \n",
      "[0,9] [1,9] [2,9] [3,9] [4,9] \n",
      "[0,8] [1,8] [2,8] [3,8] [4,8] \n",
      "[0,7] [1,7] [2,7] [3,7] [4,7] \n",
      "[0,6] [1,6] [2,6] [3,6] [4,6] \n",
      "[0,5] [1,5] [2,5] [3,5] [4,5] \n",
      "\n",
      "0 1 2 4 4 4 6 7 7 8 \n",
      "\n",
      "Success!!!"
     ]
    }
   ],
   "source": [
    "#pragma cling add_include_path(\"../../lib/\")\n",
    "\n",
    "const int N = 10;\n",
    "int arr[N];\n",
    "\n",
    "#include \"4-2-sortingnet.hpp\"\n",
    "\n",
    "struct helper{\n",
    "    helper(engine&e):eng(&e){}  \n",
    "    engine*eng;\n",
    "    block* block_arr[N];\n",
    "    \n",
    "    void start(){\n",
    "        for(int i=0; i<N; i++){\n",
    "            Start*s = new Start(*eng);\n",
    "            s->out.blockID = i;\n",
    "            block_arr[i] = &(s->out);\n",
    "        }\n",
    "    }\n",
    "    \n",
    "    void pair(int n1, int n2){\n",
    "        Pair* p = new Pair(*eng);\n",
    "        p->in1(*block_arr[n1]); p->in2(*block_arr[n2]);\n",
    "        block_arr[n1] = &(p->out1); block_arr[n2] = &(p->out2);\n",
    "    }\n",
    "    \n",
    "    void stop(){\n",
    "        Stop* s = new Stop(*eng);\n",
    "        for(int i=0; i<N; i++) s->in(*block_arr[i]);\n",
    "    }\n",
    "    \n",
    "    void sort(int less_block, int more_block)\n",
    "    {\n",
    "        if (more_block - less_block + 1 == 1) return;\n",
    "\n",
    "        if (more_block - less_block + 1 == 2) {\n",
    "            pair(less_block, more_block);\n",
    "            cout << \"[\" << less_block <<\",\"<< more_block << \"] \";\n",
    "            return;\n",
    "        }\n",
    "\n",
    "        int less_block_0 = less_block;\n",
    "        int more_block_0 = less_block + (more_block - less_block + 1) / 2 - 1;\n",
    "\n",
    "        int less_block_1 = less_block + (more_block - less_block + 1) / 2;\n",
    "        int more_block_1 = more_block;\n",
    "\n",
    "        sort(less_block_0, more_block_0);\n",
    "        sort(less_block_1, more_block_1);\n",
    "\n",
    "        for (int i = more_block_1; i >= less_block_1; i--){\n",
    "            for (int j = less_block_0; j <= more_block_0; j++){\n",
    "                pair(j, i);  cout << \"[\" << j <<\",\"<< i << \"] \";\n",
    "            }\n",
    "            cout << endl;\n",
    "        }\n",
    "    }\n",
    "};\n",
    "\n",
    "engine eng; \n",
    "helper help(eng);\n",
    "\n",
    "srand(time(NULL));\n",
    "for(int i=0; i<N; i++){ arr[i] = rand()%N; cout << arr[i] << \" \";} cout << endl << endl;      \n",
    "\n",
    "help.start();\n",
    "help.sort(0, N - 1);\n",
    "help.stop();\n",
    "\n",
    "eng.start();\n",
    "\n",
    "cout << endl;\n",
    "for(int i=0; i<N; i++) cout << arr[i] << \" \";  cout << endl << endl;\n",
    "\n",
    "cout << (eng.stopped() ? \"Success!!!\" : \"Failure...\");"
   ]
  }
 ],
 "metadata": {
  "kernelspec": {
   "display_name": "C++11",
   "language": "C++11",
   "name": "xcpp11"
  },
  "language_info": {
   "codemirror_mode": "text/x-c++src",
   "file_extension": ".cpp",
   "mimetype": "text/x-c++src",
   "name": "c++",
   "version": "11"
  }
 },
 "nbformat": 4,
 "nbformat_minor": 4
}
