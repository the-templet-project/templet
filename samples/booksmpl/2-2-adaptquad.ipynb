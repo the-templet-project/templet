{
 "cells": [
  {
   "cell_type": "markdown",
   "metadata": {},
   "source": [
    "process *#pragma templet ...* in *'2-2-adaptive.hpp'* file"
   ]
  },
  {
   "cell_type": "code",
   "execution_count": 1,
   "metadata": {
    "tags": []
   },
   "outputs": [
    {
     "name": "stdout",
     "output_type": "stream",
     "text": [
      "line:44\n",
      "Master(in?range)\n",
      "line:112\n",
      "!Worker(out!range)\n",
      "Ok"
     ]
    }
   ],
   "source": [
    "!../../bin/acta 2-2-adaptquad.hpp"
   ]
  },
  {
   "cell_type": "markdown",
   "metadata": {},
   "source": [
    "run the sample"
   ]
  },
  {
   "cell_type": "code",
   "execution_count": 2,
   "metadata": {},
   "outputs": [
    {
     "name": "stdout",
     "output_type": "stream",
     "text": [
      "range[0;3.1415] splited  by worker # 0\n",
      "range[0;1.57075] splited  by worker # 1\n",
      "range[1.57075;3.1415] splited  by worker # 2\n",
      "range[0;0.785375] splited  by worker # 3\n",
      "range[0.785375;1.57075] splited  by worker # 4\n",
      "range[1.57075;2.35613] splited  by worker # 5\n",
      "range[2.35613;3.1415] splited  by worker # 6\n",
      "range[0;0.392688] computed: 0.0758713 by worker # 7\n",
      "range[0.392688;0.785375] splited  by worker # 8\n",
      "range[0.785375;1.17806] splited  by worker # 9\n",
      "range[1.17806;1.57075] splited  by worker # 0\n",
      "range[1.57075;1.96344] splited  by worker # 1\n",
      "range[1.96344;2.35613] splited  by worker # 2\n",
      "range[2.35613;2.74881] splited  by worker # 3\n",
      "range[2.74881;3.1415] computed: 0.0759067 by worker # 4\n",
      "range[0.392688;0.589031] computed: 0.0923305 by worker # 5\n",
      "range[0.589031;0.785375] computed: 0.124256 by worker # 6\n",
      "range[0.785375;0.981719] computed: 0.151407 by worker # 7\n",
      "range[0.981719;1.17806] computed: 0.17274 by worker # 8\n",
      "range[1.17806;1.37441] computed: 0.187435 by worker # 9\n",
      "range[1.37441;1.57075] computed: 0.194927 by worker # 0\n",
      "range[1.57075;1.76709] computed: 0.194929 by worker # 1\n",
      "range[1.76709;1.96344] computed: 0.18744 by worker # 2\n",
      "range[1.96344;2.15978] computed: 0.172748 by worker # 3\n",
      "range[2.15978;2.35613] computed: 0.151419 by worker # 4\n",
      "range[2.35613;2.55247] computed: 0.12427 by worker # 5\n",
      "range[2.55247;2.74881] computed: 0.0923465 by worker # 6\n",
      "\n",
      "integral of sin(X) from 0 to 3.1415\n",
      "equals to 1.99803\n",
      "\n",
      "Success!!!"
     ]
    }
   ],
   "source": [
    "#pragma cling add_include_path(\"../../lib/\")\n",
    "\n",
    "const int N = 10;\n",
    "\n",
    "#include <cmath>\n",
    "\n",
    "#define FUNCTION(X) (sin(X))\n",
    "const double left_border  = 0.0;\n",
    "const double right_border = 3.1415;\n",
    "const double epsilon = 0.001;\n",
    "\n",
    "#include \"2-2-adaptquad.hpp\"\n",
    "\n",
    "engine eng;\n",
    "\n",
    "Master m(eng);\n",
    "Worker w[N];\n",
    "\n",
    "for(int i=0; i<N; i++){\n",
    "    w[i].engines(eng);\n",
    "    m.in(w[i].out);\n",
    "    w[i].ID = i; /// for printing the worker ID\n",
    "}\n",
    "\n",
    "m.task_list.push_back(range_task(left_border,right_border,\n",
    "                    FUNCTION(left_border),FUNCTION(right_border),\n",
    "                    (FUNCTION(left_border)+FUNCTION(right_border))/(right_border-left_border)));\n",
    "eng.start();\n",
    "\n",
    "cout << endl;\n",
    "cout << \"integral of sin(X) from \" <<  left_border << \" to \" << right_border << endl;\n",
    "cout << \"equals to \" << m.integral << endl << endl;\n",
    "\n",
    "cout << (eng.stopped() ? \"Success!!!\" : \"Failure...\");"
   ]
  }
 ],
 "metadata": {
  "kernelspec": {
   "display_name": "C++11",
   "language": "C++11",
   "name": "xcpp11"
  },
  "language_info": {
   "codemirror_mode": "text/x-c++src",
   "file_extension": ".cpp",
   "mimetype": "text/x-c++src",
   "name": "c++",
   "version": "11"
  }
 },
 "nbformat": 4,
 "nbformat_minor": 4
}
