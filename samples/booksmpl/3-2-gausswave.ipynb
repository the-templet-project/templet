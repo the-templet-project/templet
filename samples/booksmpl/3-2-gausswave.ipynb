{
 "cells": [
  {
   "cell_type": "markdown",
   "metadata": {},
   "source": [
    "process *#pragma templet ...* in *'3-1-ringmult.hpp'* file"
   ]
  },
  {
   "cell_type": "code",
   "execution_count": 1,
   "metadata": {
    "tags": []
   },
   "outputs": [
    {
     "name": "stdout",
     "output_type": "stream",
     "text": [
      "line:32\n",
      "!Begin(out!border)\n",
      "line:75\n",
      "Stage(in?border,out!border)\n",
      "line:129\n",
      "End(in?border)\n",
      "Ok"
     ]
    }
   ],
   "source": [
    "!../../bin/acta 3-2-gausswave.hpp"
   ]
  },
  {
   "cell_type": "markdown",
   "metadata": {},
   "source": [
    "run the sample"
   ]
  },
  {
   "cell_type": "code",
   "execution_count": 2,
   "metadata": {},
   "outputs": [
    {
     "name": "stdout",
     "output_type": "stream",
     "text": [
      "100 82.3803 66.3623 52.3456 40.4807 30.7179 22.8612 16.6144 11.6154 7.46176 3.73088 0 \n",
      "\n",
      "Success!!!"
     ]
    }
   ],
   "source": [
    "#pragma cling add_include_path(\"../../lib/\")\n",
    "\n",
    "const  int N = 10;\n",
    "const  int T = 10;\n",
    "double area[N+2] = {0.0};\n",
    "\n",
    "#include \"3-2-gausswave.hpp\"\n",
    "\n",
    "engine eng;\n",
    "    \n",
    "Begin b(eng);\n",
    "Stage s[N];\n",
    "End   e(eng);\n",
    "    \n",
    "area[0] = 100.0;\n",
    "    \n",
    "border* last_out = &b.out;\n",
    "e.in(s[N-1].out);\n",
    "    \n",
    "for(int i=0; i<N; i++){\n",
    "    s[i].engines(eng);  s[i].offset = i+1; \n",
    "    s[i].in(*last_out); last_out = &s[i].out;\n",
    "}\n",
    "\n",
    "eng.start();\n",
    "\n",
    "for(int i=0; i<N+2; i++) cout << area[i] << \" \";\n",
    "cout << endl << endl;\n",
    "    \n",
    "cout << (eng.stopped() ? \"Success!!!\" : \"Failure...\");"
   ]
  }
 ],
 "metadata": {
  "kernelspec": {
   "display_name": "C++11",
   "language": "C++11",
   "name": "xcpp11"
  },
  "language_info": {
   "codemirror_mode": "text/x-c++src",
   "file_extension": ".cpp",
   "mimetype": "text/x-c++src",
   "name": "c++",
   "version": "11"
  }
 },
 "nbformat": 4,
 "nbformat_minor": 4
}
