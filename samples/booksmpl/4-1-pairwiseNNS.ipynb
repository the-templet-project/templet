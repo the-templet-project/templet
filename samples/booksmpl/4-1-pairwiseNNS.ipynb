{
 "cells": [
  {
   "cell_type": "markdown",
   "metadata": {},
   "source": [
    "process #pragma templet ... in '4-1-pairwiseNNS.hpp' file"
   ]
  },
  {
   "cell_type": "code",
   "execution_count": 1,
   "metadata": {
    "tags": []
   },
   "outputs": [
    {
     "name": "stdout",
     "output_type": "stream",
     "text": [
      "line:17\n",
      "!Start(out!block)\n",
      "line:57\n",
      "Stop(in?block)\n",
      "line:93\n",
      "Pair(in1?block,in2?block,out1!block,out2!block)\n",
      "Ok"
     ]
    }
   ],
   "source": [
    "!../../bin/acta 4-1-pairwiseNNS.hpp"
   ]
  },
  {
   "cell_type": "markdown",
   "metadata": {},
   "source": [
    "run the sample"
   ]
  },
  {
   "cell_type": "code",
   "execution_count": 2,
   "metadata": {},
   "outputs": [
    {
     "name": "stdout",
     "output_type": "stream",
     "text": [
      " points positions by order:\n",
      "90  64  70  19  14  34   2  33  65  29  \n",
      "\n",
      "Lucas(Berger) algorithm\n",
      "[0,9] [1,8] [2,7] [3,6] [4,5] \n",
      "[1,9] [0,2] [3,8] [4,7] [5,6] \n",
      "[2,9] [1,3] [0,4] [5,8] [6,7] \n",
      "[3,9] [2,4] [1,5] [0,6] [7,8] \n",
      "[4,9] [3,5] [2,6] [1,7] [0,8] \n",
      "[5,9] [4,6] [3,7] [2,8] [0,1] \n",
      "[6,9] [5,7] [4,8] [0,3] [1,2] \n",
      "[7,9] [6,8] [0,5] [1,4] [2,3] \n",
      "[8,9] [0,7] [1,6] [2,5] [3,4] \n",
      "\n",
      " neares points position by order:\n",
      " 3   9   9   5   4   8   5   6   2   8  \n",
      " distances to neares point by order:\n",
      "20   1   5   5   5   1  12   1   1   4  \n",
      "\n",
      "Success!!!"
     ]
    }
   ],
   "source": [
    "#pragma cling add_include_path(\"../../lib/\")\n",
    "\n",
    "const  int N = 10;\n",
    "\n",
    "double position[N];\n",
    "int    nearest_point[N];\n",
    "double nearest_dist[N];\n",
    "\n",
    "#include \"4-1-pairwiseNNS.hpp\"\n",
    "\n",
    "struct helper{\n",
    "    helper(engine&e):eng(&e){}  \n",
    "    engine*eng;\n",
    "    block* block_arr[N];\n",
    "    \n",
    "    void start(){\n",
    "        for(int i=0; i<N; i++){\n",
    "            Start*s = new Start(*eng);\n",
    "            s->out.blockID = i;\n",
    "            block_arr[i] = &(s->out);\n",
    "        }\n",
    "    }\n",
    "    \n",
    "    void pair(int n1, int n2){\n",
    "        Pair* p = new Pair(*eng);\n",
    "        p->in1(*block_arr[n1]); p->in2(*block_arr[n2]);\n",
    "        block_arr[n1] = &(p->out1); block_arr[n2] = &(p->out2);\n",
    "    }\n",
    "    \n",
    "    void stop(){\n",
    "        Stop* s = new Stop(*eng);\n",
    "        for(int i=0; i<N; i++) s->in(*block_arr[i]);\n",
    "    }\n",
    "};\n",
    "\n",
    "engine eng; \n",
    "helper help(eng);\n",
    "\n",
    "srand(time(NULL));\n",
    "cout << \" points positions by order:\" << endl; \n",
    "for(int i=0; i<N; i++){position[i] = rand()%(N*10); cout.width(2); cout << position[i] << \"  \";}\n",
    "cout << endl;\n",
    "\n",
    "for(int i=0; i<N; i++){ \n",
    "    if(i==0){nearest_point[i] = N-1; nearest_dist[i] = abs(position[i]-position[N-1]);}\n",
    "    else{    nearest_point[i] = 0;   nearest_dist[i] = abs(position[i]-position[0]);  }\n",
    "}\n",
    "\n",
    "help.start();\n",
    "\n",
    "cout << endl << \"Lucas(Berger) algorithm\" << endl;\n",
    "for (int r = 1; r <= N + N % 2 - 1; r++) {\n",
    "\n",
    "    if (N % 2 == 0){ help.pair(r - 1, N - 1); cout << \"[\" << r - 1 <<\",\"<< N - 1 << \"] \"; }\n",
    "\n",
    "    for (int p = 1; p <= (N + N % 2)/ 2 - 1; p++) {\n",
    "        int t, i, j;\n",
    "\n",
    "        i = (r + p - 1) % (N + N % 2 - 1);\n",
    "        j = (N + N % 2 - p + r - 2) % (N + N % 2 - 1);\n",
    "        if (i > j) { t = i; i = j; j = t; }\n",
    "\n",
    "        help.pair(i, j); cout << \"[\" << i <<\",\"<< j << \"] \"; \n",
    "    }\n",
    "    cout << endl;\n",
    "}\n",
    "\n",
    "cout << endl;\n",
    "\n",
    "help.stop();\n",
    "\n",
    "eng.start();\n",
    "\n",
    "cout << \" neares points position by order:\" << endl; \n",
    "for(int i=0; i<N; i++){ cout.width(2); cout << nearest_point[i]+1 << \"  \";} \n",
    "cout << endl;\n",
    "\n",
    "cout << \" distances to neares point by order:\" << endl; \n",
    "for(int i=0; i<N; i++){ cout.width(2); cout << nearest_dist[i] << \"  \";}\n",
    "cout << endl << endl;\n",
    "\n",
    "cout << (eng.stopped() ? \"Success!!!\" : \"Failure...\");"
   ]
  }
 ],
 "metadata": {
  "kernelspec": {
   "display_name": "C++11",
   "language": "C++11",
   "name": "xcpp11"
  },
  "language_info": {
   "codemirror_mode": "text/x-c++src",
   "file_extension": ".cpp",
   "mimetype": "text/x-c++src",
   "name": "c++",
   "version": "11"
  }
 },
 "nbformat": 4,
 "nbformat_minor": 4
}
