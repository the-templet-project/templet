{
 "cells": [
  {
   "cell_type": "markdown",
   "metadata": {
    "tags": []
   },
   "source": [
    "process *#pragma templet ...* in *'1-pingpong.hpp'* file"
   ]
  },
  {
   "cell_type": "code",
   "execution_count": 1,
   "metadata": {
    "tags": []
   },
   "outputs": [
    {
     "name": "stdout",
     "output_type": "stream",
     "text": [
      "line:28\n",
      "!Ping(out!message)\n",
      "line:71\n",
      "Pong(in?message)\n",
      "Ok"
     ]
    }
   ],
   "source": [
    "!../../bin/acta 1-pingpong.hpp"
   ]
  },
  {
   "cell_type": "markdown",
   "metadata": {},
   "source": [
    "run the sample"
   ]
  },
  {
   "cell_type": "code",
   "execution_count": 2,
   "metadata": {},
   "outputs": [
    {
     "name": "stdout",
     "output_type": "stream",
     "text": [
      "Ping started..\n",
      "Pong received message from Ping..\n",
      "Ping received message from Pong..\n",
      "\n",
      "Success!!!"
     ]
    }
   ],
   "source": [
    "#pragma cling add_include_path(\"../../lib/\")\n",
    "#include \"1-pingpong.hpp\"\n",
    "\n",
    "engine eng;\n",
    "\n",
    "Ping ping(eng);\n",
    "Pong pong(eng);\n",
    "\n",
    "pong.in(ping.out);\n",
    "\n",
    "eng.start();\n",
    "\n",
    "cout << (eng.stopped() ? \"Success!!!\" : \"Failure...\");"
   ]
  }
 ],
 "metadata": {
  "kernelspec": {
   "display_name": "C++11",
   "language": "C++11",
   "name": "xcpp11"
  },
  "language_info": {
   "codemirror_mode": "text/x-c++src",
   "file_extension": ".cpp",
   "mimetype": "text/x-c++src",
   "name": "c++",
   "version": "11"
  }
 },
 "nbformat": 4,
 "nbformat_minor": 4
}
