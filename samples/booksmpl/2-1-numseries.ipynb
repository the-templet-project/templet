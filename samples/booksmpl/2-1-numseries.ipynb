{
 "cells": [
  {
   "cell_type": "markdown",
   "metadata": {},
   "source": [
    "process *#pragma templet ...* in *'2-1-integral.hpp'* file"
   ]
  },
  {
   "cell_type": "code",
   "execution_count": 1,
   "metadata": {
    "tags": []
   },
   "outputs": [
    {
     "name": "stdout",
     "output_type": "stream",
     "text": [
      "line:38\n",
      "Master(in?range)\n",
      "line:86\n",
      "!Worker(out!range)\n",
      "Ok"
     ]
    }
   ],
   "source": [
    "!../../bin/acta 2-1-numseries.hpp"
   ]
  },
  {
   "cell_type": "markdown",
   "metadata": {},
   "source": [
    "run the sample"
   ]
  },
  {
   "cell_type": "code",
   "execution_count": 2,
   "metadata": {},
   "outputs": [
    {
     "name": "stdout",
     "output_type": "stream",
     "text": [
      "PI = 3.14159\n",
      "\n",
      "Success!!!"
     ]
    }
   ],
   "source": [
    "#pragma cling add_include_path(\"../../lib/\")\n",
    "\n",
    "const int N = 10;\n",
    "const long num_steps = 100000;\n",
    "const double step = 1.0/(double) num_steps;\n",
    "\n",
    "#include \"2-1-numseries.hpp\"\n",
    "\n",
    "engine eng;\n",
    "\n",
    "Master m(eng);\n",
    "Worker w[N];\n",
    "\n",
    "for(int i=0; i<N; i++){\n",
    "    w[i].engines(eng);\n",
    "    m.in(w[i].out);\n",
    "}\n",
    "\n",
    "eng.start();\n",
    "\n",
    "cout << \"PI = \" << m.PI << endl << endl;\n",
    "\n",
    "cout << (eng.stopped() ? \"Success!!!\" : \"Failure...\");"
   ]
  }
 ],
 "metadata": {
  "kernelspec": {
   "display_name": "C++11",
   "language": "C++11",
   "name": "xcpp11"
  },
  "language_info": {
   "codemirror_mode": "text/x-c++src",
   "file_extension": ".cpp",
   "mimetype": "text/x-c++src",
   "name": "c++",
   "version": "11"
  }
 },
 "nbformat": 4,
 "nbformat_minor": 4
}
