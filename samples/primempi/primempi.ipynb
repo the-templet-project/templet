{
 "cells": [
  {
   "cell_type": "raw",
   "metadata": {},
   "source": [
    "process #pragma templet ...  in 'primempi.cpp' file (reload the file after processing, if needed)"
   ]
  },
  {
   "cell_type": "code",
   "execution_count": 1,
   "metadata": {},
   "outputs": [
    {
     "name": "stdout",
     "output_type": "stream",
     "text": [
      "line:213\n",
      "!worker(r!request,t:basesim)\n",
      "line:271\n",
      "master(r?request)\n",
      "Ok"
     ]
    }
   ],
   "source": [
    "!~/bin/acta primempi.cpp"
   ]
  },
  {
   "cell_type": "raw",
   "metadata": {},
   "source": [
    "compile 'primempi.cpp' file"
   ]
  },
  {
   "cell_type": "code",
   "execution_count": 1,
   "metadata": {},
   "outputs": [
    {
     "name": "stdout",
     "output_type": "stream",
     "text": [
      "In file included from /usr/include/c++/5/chrono:35:0,\n",
      "                 from primempi.cpp:18:\n",
      "/usr/include/c++/5/bits/c++0x_warning.h:32:2: error: #error This file requires compiler and library support for the ISO C++ 2011 standard. This support must be enabled with the -std=c++11 or -std=gnu++11 compiler options.\n",
      " #error This file requires compiler and library support \\\n",
      "  ^\n",
      "primempi.cpp: In constructor ‘worker::worker(templet::engine&, templet::basesim_engine&)’:\n",
      "primempi.cpp:221:71: warning: delegating constructors only available with -std=c++11 or -std=gnu++11\n",
      "  worker(templet::engine&e,templet::basesim_engine&te_basesim) :worker() {\n",
      "                                                                       ^\n",
      "primempi.cpp: In member function ‘void worker::on_t(templet::basesim_task&)’:\n",
      "primempi.cpp:255:8: error: ‘start’ does not name a type\n",
      "   auto start = std::chrono::high_resolution_clock::now();\n",
      "        ^\n",
      "primempi.cpp:257:8: error: ‘end’ does not name a type\n",
      "   auto end = std::chrono::high_resolution_clock::now();\n",
      "        ^\n",
      "primempi.cpp:258:8: error: ‘std::chrono’ has not been declared\n",
      "   std::chrono::duration<double> diff = end - start;\n",
      "        ^\n",
      "primempi.cpp:258:25: error: expected primary-expression before ‘double’\n",
      "   std::chrono::duration<double> diff = end - start;\n",
      "                         ^\n",
      "primempi.cpp:259:11: error: ‘diff’ was not declared in this scope\n",
      "   t.delay(diff.count());\n",
      "           ^\n",
      "primempi.cpp: In constructor ‘master::master(templet::engine&)’:\n",
      "primempi.cpp:277:36: warning: delegating constructors only available with -std=c++11 or -std=gnu++11\n",
      "  master(templet::engine&e) :master() {\n",
      "                                    ^\n"
     ]
    }
   ],
   "source": [
    "!g++ primempi.cpp -I ~/lib -o primempi"
   ]
  },
  {
   "cell_type": "raw",
   "metadata": {},
   "source": [
    "run primempi sample"
   ]
  },
  {
   "cell_type": "code",
   "execution_count": null,
   "metadata": {},
   "outputs": [],
   "source": [
    "!./primempi"
   ]
  }
 ],
 "metadata": {
  "kernelspec": {
   "display_name": "C++14",
   "language": "C++14",
   "name": "xcpp14"
  },
  "language_info": {
   "codemirror_mode": "text/x-c++src",
   "file_extension": ".cpp",
   "mimetype": "text/x-c++src",
   "name": "c++",
   "version": "-std=c++14"
  }
 },
 "nbformat": 4,
 "nbformat_minor": 4
}
