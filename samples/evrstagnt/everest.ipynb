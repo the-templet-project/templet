{
 "cells": [
  {
   "cell_type": "markdown",
   "id": "baa0a910-950f-4cd2-aae5-c9e1f0078ba9",
   "metadata": {},
   "source": [
    "Overwriting the configuration file from backup:"
   ]
  },
  {
   "cell_type": "code",
   "execution_count": null,
   "id": "f91ab82f-c465-45f4-94cc-bbeffd9fd45d",
   "metadata": {
    "tags": []
   },
   "outputs": [],
   "source": [
    "!cp ../../everest_agent/everest_agent/agent.conf.default ../../everest_agent/conf/agent.conf; echo -n AGENTTOKEN > agent-token.txt"
   ]
  },
  {
   "cell_type": "markdown",
   "id": "4aaae67f-6dc9-47c9-b9f0-d907427e3137",
   "metadata": {
    "tags": []
   },
   "source": [
    "Writing a new Everest agent token to the configuration file, saving resource ID:"
   ]
  },
  {
   "cell_type": "code",
   "execution_count": null,
   "id": "a3b01c89-3c76-48aa-b38e-0b93330bfb7e",
   "metadata": {
    "tags": []
   },
   "outputs": [],
   "source": [
    "#include <cstdlib>\n",
    "#include <iostream>\n",
    "#include <fstream>\n",
    "#include <string>\n",
    "using namespace std;\n",
    "{\n",
    "    string old_token = \"AGENTTOKEN\";\n",
    "    {ifstream file(\"agent-token.txt\"); if(file) file >> old_token;} \n",
    "    cout << \"Please enter the Everest agent Token:\" << endl;\n",
    "    string new_token; cin >> new_token;\n",
    "    ofstream file(\"agent-token.txt\"); file << new_token;\n",
    "    string sed_command = \"sed -i -e 's=\"+old_token+\"=\"+new_token+\"=' ../../everest_agent/conf/agent.conf\";\n",
    "    system(sed_command.c_str());\n",
    "    cout << \"Please enter the Everest agent ID:\" << endl;\n",
    "    string agent_ID; cin >> agent_ID;\n",
    "    ofstream idfile(\"agent-ID.txt\"); idfile << agent_ID;\n",
    " }"
   ]
  },
  {
   "cell_type": "markdown",
   "id": "0857e801-fa9f-41d3-99a5-994ec0fda8b4",
   "metadata": {},
   "source": [
    "Starting the Everest agent:"
   ]
  },
  {
   "cell_type": "code",
   "execution_count": null,
   "id": "07a903ff-a673-47e7-95bd-8fb27ab1cf5c",
   "metadata": {
    "tags": []
   },
   "outputs": [],
   "source": [
    "#include <cstdlib>\n",
    "#include <fstream>\n",
    "#include <iostream>\n",
    "using namespace std;\n",
    "{ifstream file(\"../../everest_agent/agent.pid\"); if(file){cout << \"Everest agent is already running, please stop it first.\";return;}}\n",
    "system(\"../../everest_agent/bin/start.sh\");\n",
    "{ifstream file(\"../../everest_agent/agent.pid\"); if(file){cout << \"Everest agent is running.\";}}"
   ]
  },
  {
   "cell_type": "markdown",
   "id": "3e9e131e-800d-4afa-b563-d9f84c184e22",
   "metadata": {},
   "source": [
    "Opening a session, getting a session token:"
   ]
  },
  {
   "cell_type": "code",
   "execution_count": null,
   "id": "e4f54dd9-58da-4001-adc5-6db1850d7b61",
   "metadata": {
    "tags": []
   },
   "outputs": [],
   "source": [
    "#pragma cling load(\"libcurl\")\n",
    "#pragma cling add_include_path(\"../../lib/opt\")\n",
    "#include \"../../lib/everest.hpp\"\n",
    "#include <fstream>\n",
    "#include \"xcpp/xdisplay.hpp\"\n",
    "using namespace std;\n",
    "{\n",
    "    {ifstream file(\"session-token.txt\"); if(file) {cout << \"The session is already open. Please close it first.\"; return;}}\n",
    "    string login,pass,token;\n",
    "    cout << \"Please enter your Everest login:\"    << endl; cin >> login;\n",
    "    cout << \"Please enter your Everest password:\" << endl; cin >> pass;\n",
    "    xcpp::clear_output(true);\n",
    "    templet::everest_engine teng(login.c_str(),pass.c_str());\n",
    "    if(!teng){ std::cout << \"There was an error logging into Everest.\" << endl; return; }\n",
    "    teng.save_access_token();\n",
    "    teng.get_access_token(token);\n",
    "    ofstream file(\"session-token.txt\"); file << token;\n",
    "    cout << \"Your session token is: \" << token;\n",
    "}"
   ]
  },
  {
   "cell_type": "markdown",
   "id": "7fee88fd-0902-4d68-bb7f-44448f7e06fd",
   "metadata": {},
   "source": [
    "Running a test application on the Everest agent:"
   ]
  },
  {
   "cell_type": "code",
   "execution_count": null,
   "id": "3a6df322-a2f4-43c2-b615-8110a5bdd595",
   "metadata": {
    "tags": []
   },
   "outputs": [],
   "source": [
    "#pragma cling load(\"libcurl\")\n",
    "#pragma cling add_include_path(\"../../lib/opt\")\n",
    "#include \"../../lib/everest.hpp\"\n",
    "#include <fstream>\n",
    "using namespace std;\n",
    "{\n",
    "    ifstream file(\"session-token.txt\"),idfile(\"agent-ID.txt\"); \n",
    "    if(!file){ cout << \"The session is not open. Please open it first.\"; return;}\n",
    "    if(!idfile){cout << \"The Everest agent ID is absent. Please setup the agent first.\";return;}\n",
    "    string token, agentID; file >> token; idfile >> agentID;\n",
    "    templet::everest_engine teng(token.c_str());\n",
    "    if(!teng){ cout << \"There was an error connecting to Everest.\" << endl; return; }\n",
    "    const char* sleep_app_id = \"52b1ce8f3d00007a007a7189\";// See 'Getting the ID and description...'\n",
    "    templet::everest_task sleep_task;\n",
    "    sleep_task.app_id(sleep_app_id);\n",
    "    sleep_task.engine(teng);\n",
    "    json in;\n",
    "    in[\"name\"] = string(\"Sleep\");\n",
    "    in[\"inputs\"][\"duration\"]=1;\n",
    "    in[\"resources\"][0]=agentID;\n",
    "    if(sleep_task.submit(in)) cout << \"Task submitted successfully.\" << endl;\n",
    "    teng.run();\n",
    "    templet::everest_error cntxt;\n",
    "    if (teng.error(&cntxt)) {\n",
    "        cout << \"Task engine error:\" << endl; templet::everest_engine::print_error(&cntxt);\n",
    "        return;\n",
    "    }\n",
    "    cout << \"Test task completed successfully.\";\n",
    "}"
   ]
  },
  {
   "cell_type": "markdown",
   "id": "5d98558a-1e54-4c99-bb19-a5774c42b8b5",
   "metadata": {},
   "source": [
    "Getting the ID and description of arbitrary Everest applications by name:"
   ]
  },
  {
   "cell_type": "code",
   "execution_count": null,
   "id": "3d025112-b4a0-4f71-9f0d-b550c27030d1",
   "metadata": {
    "tags": []
   },
   "outputs": [],
   "source": [
    "#pragma cling load(\"libcurl\")\n",
    "#pragma cling add_include_path(\"../../lib/opt\")\n",
    "#include \"../../lib/everest.hpp\"\n",
    "#include <fstream>\n",
    "using namespace std;\n",
    "{\n",
    "    ifstream file(\"session-token.txt\"); \n",
    "    if(!file){ cout << \"The session is not open. Please open it first.\"; return;}\n",
    "    string token; file >> token;\n",
    "    templet::everest_engine teng(token.c_str());\n",
    "    if(!teng){ cout << \"There was an error connecting to Everest.\" << endl; return; }\n",
    "    cout << \"Please enter the name of the Everest application (or part of the name):\";\n",
    "    string app_name; cin >> app_name;\n",
    "    cout << \"These are the descriptions of Everest apps named '\" << app_name <<\"':\" << endl << endl;\n",
    "    teng.print_app_description(app_name.c_str());\n",
    "}"
   ]
  },
  {
   "cell_type": "markdown",
   "id": "66b70338-ce04-4eef-bb98-27b8b67e79f7",
   "metadata": {},
   "source": [
    "Closing the Everest session:"
   ]
  },
  {
   "cell_type": "code",
   "execution_count": null,
   "id": "ef33433d-a455-4541-b775-1c97bd47a6d5",
   "metadata": {
    "tags": []
   },
   "outputs": [],
   "source": [
    "#pragma cling load(\"libcurl\")\n",
    "#pragma cling add_include_path(\"../../lib/opt\")\n",
    "#include \"../../lib/everest.hpp\"\n",
    "#include <fstream>\n",
    "#include <cstdio>\n",
    "using namespace std;\n",
    "{\n",
    "    ifstream file(\"session-token.txt\"); \n",
    "    if(!file){ cout << \"The session is not open. Please open it first.\"; return;}\n",
    "    string token; file >> token;\n",
    "    templet::everest_engine teng(token.c_str());\n",
    "    if(!teng){ cout << \"There was an error connecting to Everest.\" << endl; return; }\n",
    "    teng.save_access_token(false);\n",
    "    remove(\"session-token.txt\");\n",
    "    cout << \"The session is closed.\" << endl;\n",
    "}"
   ]
  },
  {
   "cell_type": "markdown",
   "id": "13838a9b-c4cb-4e94-bdbe-74bd4c854717",
   "metadata": {},
   "source": [
    "Stopping the Everest agent:"
   ]
  },
  {
   "cell_type": "code",
   "execution_count": null,
   "id": "83946d40-9d6d-4952-b199-976feeb39b22",
   "metadata": {
    "tags": []
   },
   "outputs": [],
   "source": [
    "!kill $(cat ../../everest_agent/agent.pid); rm ../../everest_agent/agent.pid"
   ]
  }
 ],
 "metadata": {
  "kernelspec": {
   "display_name": "C++11",
   "language": "C++11",
   "name": "xcpp11"
  },
  "language_info": {
   "codemirror_mode": "text/x-c++src",
   "file_extension": ".cpp",
   "mimetype": "text/x-c++src",
   "name": "c++",
   "version": "11"
  }
 },
 "nbformat": 4,
 "nbformat_minor": 5
}
