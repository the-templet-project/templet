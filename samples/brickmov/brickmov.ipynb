{
 "cells": [
  {
   "cell_type": "raw",
   "id": "9bdbe58a",
   "metadata": {},
   "source": [
    "Model of transferring bricks from the original heap to the new one along the chain of workers.\n",
    "\n",
    "The purpose of this demo is to show:\n",
    "1) stages of designing algorithms using the Templet framework;\n",
    "2) ways of describing local actions in distributed algorithms;\n",
    "3) a method for describing a scalable algorithm with an invariable structure of actors during the computations;\n",
    "4) checking the correctness of the algorithm using tasks with an arbitrary order of execution;\n",
    "5) checking the possibility of parallel execution of tasks in the algorithm.\n",
    "\n",
    "phase 0\n",
    "-------\n",
    "-- defining message types and actor types\n",
    "-- solution of a reduced task with two workers moving bricks\n",
    "-- simple actions with \"message arrival\" precondition\n",
    "\n",
    "phase 1\n",
    "-------\n",
    "-- solving the problem with the number of workers >2 in the non-scalable version\n",
    "-- complex actions with \"state of the actor\" precondition\n",
    "-- testing the algorithm with all types of actors, deterministic execution\n",
    "\n",
    "phase 2\n",
    "-------\n",
    "-- scalable version of the algorithm\n",
    "-- outlining tasks in an actor's action code\n",
    "-- testing an algorithm with an arbitrary order of task execution\n",
    "\n",
    "phase 3\n",
    "-------\n",
    "--  speed-up check of the algorithm using parallel tasks simulation"
   ]
  },
  {
   "cell_type": "raw",
   "id": "f0c44947",
   "metadata": {},
   "source": [
    "select a phase of the program design"
   ]
  },
  {
   "cell_type": "code",
   "execution_count": null,
   "id": "7033cb12",
   "metadata": {
    "jupyter": {
     "source_hidden": true
    },
    "tags": []
   },
   "outputs": [],
   "source": [
    "#include <fstream>\n",
    "#include <iostream>\n",
    "using namespace std;\n",
    "{\n",
    "    int phase;\n",
    "    cout << \"please, select the phase of the program design: a number from 0 to 3:\"; cin >> phase;\n",
    "    if(0<=phase && phase<=3){\n",
    "        ofstream fphase(\"phase\"); fphase << phase;\n",
    "        cout << \"phase #\" << phase << \" selected\";\n",
    "    }\n",
    "    else{\n",
    "        cout << \"you are wrong with the number\"; \n",
    "    }\n",
    "}"
   ]
  },
  {
   "cell_type": "raw",
   "id": "1900c9ab",
   "metadata": {},
   "source": [
    "process #pragma templet ...  in 'phase-0..3.cpp' files (reload the right file after processing, if needed)"
   ]
  },
  {
   "cell_type": "code",
   "execution_count": null,
   "id": "241a034e",
   "metadata": {
    "jupyter": {
     "source_hidden": true
    },
    "tags": []
   },
   "outputs": [],
   "source": [
    "#include <cstdlib>\n",
    "#include <iostream>\n",
    "#include <fstream>\n",
    "#include <string>\n",
    "using namespace std;\n",
    "{\n",
    "    int phase; ifstream fphase(\"phase\"); if(fphase) fphase >> phase;\n",
    "    string filename(\"phase-\"); filename += to_string(phase); filename += \".cpp\";\n",
    "    system((string(\"../../bin/acta \")+filename+\" > out.txt\").c_str());\n",
    "    ifstream file(\"out.txt\"); for (string line; getline(file, line); )cout << line << endl;\n",
    "    system(\"rm out.txt\");\n",
    " }"
   ]
  },
  {
   "cell_type": "raw",
   "id": "10809bb2",
   "metadata": {},
   "source": [
    "compile some of 'phase-0..3.cpp' files"
   ]
  },
  {
   "cell_type": "code",
   "execution_count": null,
   "id": "d66531be",
   "metadata": {
    "jupyter": {
     "source_hidden": true
    },
    "tags": []
   },
   "outputs": [],
   "source": [
    "#include <cstdlib>\n",
    "#include <iostream>\n",
    "#include <fstream>\n",
    "#include <string>\n",
    "using namespace std;\n",
    "{\n",
    "    int phase; ifstream fphase(\"phase\"); if(fphase) fphase >> phase;\n",
    "    string filename(\"phase-\"); filename += to_string(phase); filename += \".cpp\";\n",
    "    system((string(\"g++ \")+filename+\" -I ../../lib -o brickmov 2> out.txt\").c_str());\n",
    "    ifstream file(\"out.txt\"); bool ok=true; for (string line; getline(file, line); ){cout << line << endl; ok = false;}\n",
    "    if(ok)cout << \"Compilation is Ok\";\n",
    "    system(\"rm out.txt\");\n",
    "}"
   ]
  },
  {
   "cell_type": "raw",
   "id": "dfdbeebb",
   "metadata": {},
   "source": [
    "run brickmov sample"
   ]
  },
  {
   "cell_type": "code",
   "execution_count": null,
   "id": "123d1d5d-2a5a-45c0-aad5-a3c24103bb9f",
   "metadata": {},
   "outputs": [],
   "source": [
    "!./brickmov"
   ]
  }
 ],
 "metadata": {
  "kernelspec": {
   "display_name": "C++11",
   "language": "C++11",
   "name": "xcpp11"
  },
  "language_info": {
   "codemirror_mode": "text/x-c++src",
   "file_extension": ".cpp",
   "mimetype": "text/x-c++src",
   "name": "c++",
   "version": "11"
  }
 },
 "nbformat": 4,
 "nbformat_minor": 5
}
