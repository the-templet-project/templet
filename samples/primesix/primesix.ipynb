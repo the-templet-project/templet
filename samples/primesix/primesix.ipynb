{
 "cells": [
  {
   "cell_type": "code",
   "execution_count": null,
   "id": "07fa10d1-84f7-446e-b120-a9f8bb26f2c2",
   "metadata": {},
   "outputs": [],
   "source": [
    "!../../bin/acta primesix.cpp"
   ]
  },
  {
   "cell_type": "code",
   "execution_count": 9,
   "id": "c2894bd4-432f-49c7-b2db-c8e1a640bab6",
   "metadata": {},
   "outputs": [],
   "source": [
    "!g++ primeops.cpp primesix.cpp -I ../../lib -o primesix"
   ]
  },
  {
   "cell_type": "code",
   "execution_count": null,
   "id": "c42d0f11-13b6-420a-b6dc-7f50d14b8890",
   "metadata": {},
   "outputs": [],
   "source": []
  }
 ],
 "metadata": {
  "kernelspec": {
   "display_name": "Python 3 (ipykernel)",
   "language": "python",
   "name": "python3"
  },
  "language_info": {
   "codemirror_mode": {
    "name": "ipython",
    "version": 3
   },
   "file_extension": ".py",
   "mimetype": "text/x-python",
   "name": "python",
   "nbconvert_exporter": "python",
   "pygments_lexer": "ipython3",
   "version": "3.10.10"
  }
 },
 "nbformat": 4,
 "nbformat_minor": 5
}
