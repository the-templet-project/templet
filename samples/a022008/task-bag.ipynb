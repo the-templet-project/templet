{
 "cells": [
  {
   "cell_type": "code",
   "execution_count": 1,
   "id": "1a9170c7-f910-41b0-857c-1764ef422a6b",
   "metadata": {},
   "outputs": [],
   "source": [
    "#include \"task-bag.hpp\"\n",
    "\n",
    "const int NUM_WORKERS = 10;\n",
    "\n",
    "seq_test_bag b1;\n",
    "seq_test test;\n",
    "bag b2(NUM_WORKERS);\n",
    "\n",
    "b1.run();\n",
    "test.run();\n",
    "b2.run();\n",
    "\n"
   ]
  },
  {
   "cell_type": "code",
   "execution_count": null,
   "id": "bf99dccb-d082-4042-a628-5304bfd9168e",
   "metadata": {},
   "outputs": [],
   "source": []
  }
 ],
 "metadata": {
  "kernelspec": {
   "display_name": "C++17",
   "language": "C++17",
   "name": "xcpp17"
  },
  "language_info": {
   "codemirror_mode": "text/x-c++src",
   "file_extension": ".cpp",
   "mimetype": "text/x-c++src",
   "name": "c++",
   "version": "17"
  }
 },
 "nbformat": 4,
 "nbformat_minor": 5
}
