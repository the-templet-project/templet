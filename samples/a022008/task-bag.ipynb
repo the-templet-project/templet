{
 "cells": [
  {
   "cell_type": "code",
   "execution_count": 1,
   "id": "1a9170c7-f910-41b0-857c-1764ef422a6b",
   "metadata": {},
   "outputs": [],
   "source": [
    "#include \"task-bag.hpp\"\n",
    "\n",
    "class sextuple: public bag_par {\n",
    "//class sextuple: public bag_seq {\n",
    "\n",
    "class sextuple_task: public bag_par::task{\n",
    "//class sextuple_task: public bag_seq::task{\n",
    "    friend class sextuple;\n",
    "    void on_run() override{\n",
    "            /*-1-*/\n",
    "    }\n",
    "            /*-2-*/\n",
    "};\n",
    "\n",
    "    task* create_task() override{\n",
    "        return new sextuple_task;\n",
    "    }\n",
    "    \n",
    "    bool on_get(task&) override{\n",
    "            /*-3-*/\n",
    "            return false;\n",
    "    }\n",
    "    void on_put(task&) override{\n",
    "            /*-4-*/\n",
    "    }\n",
    "public:\n",
    "    sextuple(int num_wokers):bag_par(num_wokers){\n",
    "    //sextuple(int num_wokers):bag_seq(num_wokers){\n",
    "            /*-5-*/\n",
    "    }\n",
    "            /*-6-*/\n",
    "};\n",
    "\n",
    "const int NUM_WORKERS = 10;\n",
    "sextuple bag(NUM_WORKERS);\n",
    "bag.run();\n"
   ]
  },
  {
   "cell_type": "code",
   "execution_count": null,
   "id": "bf99dccb-d082-4042-a628-5304bfd9168e",
   "metadata": {},
   "outputs": [],
   "source": []
  }
 ],
 "metadata": {
  "kernelspec": {
   "display_name": "C++17",
   "language": "C++17",
   "name": "xcpp17"
  },
  "language_info": {
   "codemirror_mode": "text/x-c++src",
   "file_extension": ".cpp",
   "mimetype": "text/x-c++src",
   "name": "c++",
   "version": "17"
  }
 },
 "nbformat": 4,
 "nbformat_minor": 5
}
