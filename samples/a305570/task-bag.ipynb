{
 "cells": [
  {
   "cell_type": "code",
   "execution_count": null,
   "id": "1a9170c7-f910-41b0-857c-1764ef422a6b",
   "metadata": {
    "scrolled": true
   },
   "outputs": [],
   "source": [
    "#include \"task-bag.hpp\"\n",
    "\n",
    "task_pool tpool;\n",
    "task_pool_run(tpool);"
   ]
  }
 ],
 "metadata": {
  "kernelspec": {
   "display_name": "C++17",
   "language": "C++17",
   "name": "xcpp17"
  },
  "language_info": {
   "codemirror_mode": "text/x-c++src",
   "file_extension": ".cpp",
   "mimetype": "text/x-c++src",
   "name": "c++",
   "version": "17"
  }
 },
 "nbformat": 4,
 "nbformat_minor": 5
}
