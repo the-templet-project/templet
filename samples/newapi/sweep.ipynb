{
 "cells": [
  {
   "cell_type": "raw",
   "id": "a853d1aa-c255-4461-a806-68f48542c31c",
   "metadata": {},
   "source": [
    "Вариант 1. Узлы анонимны, могут произвольно отключаться и подключаться."
   ]
  },
  {
   "cell_type": "code",
   "execution_count": 1,
   "id": "95e390ec-f385-41a5-ac5b-debbb1790270",
   "metadata": {},
   "outputs": [],
   "source": [
    "#define _globject_\n",
    "#define _action_\n",
    "#define _update_\n",
    "#define _in_\n",
    "#define _out_\n",
    "\n",
    "#include <set>\n",
    "\n",
    "template <class Task>\n",
    "_globject_ class bag_of_tasks{\n",
    "\n",
    "public:\n",
    "    void init(){ for(auto &t:vacant_tasks) t.second.ID = t.first; }\n",
    "public:\n",
    "    bool get(Task& t){return get(rand(),t);}\n",
    "private:\n",
    "    _action_ bool get(_in_ int random,_out_ Task& t){\n",
    "        // если все задачи обработаны\n",
    "        if(vacant_tasks.size()==0) return false;\n",
    "        \n",
    "        // выбираем произвольную задачу на обработку\n",
    "        int selected = random % vacant_tasks.size();\n",
    "        auto it = vacant_tasks.begin();\n",
    "        \n",
    "        for(int i=0; i!=selected; i++,it++);\n",
    "        t = *it;\n",
    "        \n",
    "        return true;\n",
    "    }\n",
    "    _action_ void put(_in_ Task& t){\n",
    "        if(ready_tasks.find(t.ID)!=ready_tasks.end())\n",
    "            ready_tasks[t.ID] = t;\n",
    "        if(vacant_tasks.find(t.ID)!=vacant_tasks.end())\n",
    "            vacant_tasks.erase(t.ID);\n",
    "    }\n",
    "    _update_ bool ready(){\n",
    "        return vacant_tasks.size()==0;\n",
    "    }\n",
    "public:\n",
    "    std::map<int,Task>  vacant_tasks;\n",
    "    std::map<int,Task>  ready_tasks;    \n",
    "};"
   ]
  },
  {
   "cell_type": "raw",
   "id": "6b14813e-0ccd-4ef9-b0fd-618fd9bac26a",
   "metadata": {},
   "source": [
    "Вариант 2. Узлы имеют персональные идентификаторы. Если узел вышел из строя, он перезапускается."
   ]
  },
  {
   "cell_type": "code",
   "execution_count": 1,
   "id": "5b205636-25f1-49e9-bda9-a16266df0a94",
   "metadata": {},
   "outputs": [
    {
     "name": "stderr",
     "output_type": "stream",
     "text": [
      "ERROR: received unknown message\n",
      "Message type: usage_request\n",
      "ERROR: received unknown message\n",
      "Message type: usage_request\n",
      "ERROR: received unknown message\n",
      "Message type: usage_request\n",
      "ERROR: received unknown message\n",
      "Message type: usage_request\n",
      "ERROR: received unknown message\n",
      "Message type: usage_request\n"
     ]
    }
   ],
   "source": [
    "#define _globject_\n",
    "#define _action_\n",
    "#define _update_\n",
    "#define _in_\n",
    "#define _out_\n",
    "\n",
    "#include <set>\n",
    "\n",
    "template <class Task>\n",
    "_globject_ class bag_of_tasks{\n",
    "public:\n",
    "    bag_of_tasks(int objID):ID(objID){}\n",
    "public:\n",
    "    bool get(Task& t){return get(ID, t);}\n",
    "private:\n",
    "    _action_ bool get(_in_ int _ID, _out_ Task& t){\n",
    "        // если ID уже взял задачу, но не вернул результат\n",
    "        if(inprocess_tasks.find(_ID)!=inprocess_tasks.end()){\n",
    "            t = inprocess_tasks[_ID];\n",
    "            return true;\n",
    "        }\n",
    "        // если задач на обработку нет\n",
    "        if(vacant_tasks.size()==0) return false;\n",
    "        \n",
    "        // если задачу не брал и остались нерешенные задачи, то берет последнюю нерешенную\n",
    "        int size = vacant_tasks.size();\n",
    "        inprocess_tasks[_ID] = vacant_tasks[size-1];\n",
    "        vacant_tasks.resize(size-1);\n",
    "        t = inprocess_tasks[_ID];\n",
    "        return true;\n",
    "    }\n",
    "public:\n",
    "    void put(Task& t){put(ID,t);}\n",
    "private:\n",
    "    _action_ void put(_in_ int _ID,_in_ Task& t){\n",
    "        ready_tasks.push_back(t);\n",
    "        inprocess_tasks.erase(_ID);\n",
    "    }\n",
    "    _update_ bool ready(){\n",
    "        return vacant_tasks.size()==0 && inprocess_tasks.size()==0;\n",
    "    }\n",
    "public:\n",
    "    std::vector<Task>  vacant_tasks;\n",
    "    std::vector<Task>  ready_tasks;\n",
    "private:\n",
    "    int ID;\n",
    "    std::map<int,Task> inprocess_tasks;\n",
    "};"
   ]
  },
  {
   "cell_type": "code",
   "execution_count": null,
   "id": "b158e0fd-d1be-4f0e-8076-b708819ac108",
   "metadata": {},
   "outputs": [],
   "source": []
  }
 ],
 "metadata": {
  "kernelspec": {
   "display_name": "C++17",
   "language": "C++17",
   "name": "xcpp17"
  },
  "language_info": {
   "codemirror_mode": "text/x-c++src",
   "file_extension": ".cpp",
   "mimetype": "text/x-c++src",
   "name": "c++",
   "version": "17"
  }
 },
 "nbformat": 4,
 "nbformat_minor": 5
}
