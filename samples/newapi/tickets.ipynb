{
 "cells": [
  {
   "cell_type": "code",
   "execution_count": 1,
   "id": "ea621a41-4a4d-40dd-ab68-1c2af93cce53",
   "metadata": {},
   "outputs": [],
   "source": [
    "#define _globject_\n",
    "#define _action_\n",
    "#define _update_\n",
    "#define _in_\n",
    "#define _out_\n",
    "\n",
    "#include <string>\n",
    "#include <set>\n",
    "#include <iostream>\n",
    "using namespace std;\n",
    "\n",
    "_globject_ class tickets{\n",
    "    \n",
    "public:\n",
    "    _action_ bool get_ticket(_in_ const string& name,_out_ int& ticket_number){\n",
    "        // если name уже вытагивал билет\n",
    "        if(selected_tickets.find(name)!=selected_tickets.end()){\n",
    "            ticket_number = selected_tickets[name];\n",
    "            return true;\n",
    "        }\n",
    "        // если все билеты вытянуты\n",
    "        if(vacant_tickets.size()==0) return false;\n",
    "        \n",
    "        // если name билет не вытягивал и остались билеты\n",
    "        int selected = rand() % vacant_tickets.size();\n",
    "        set<int>::iterator it = vacant_tickets.begin();\n",
    "        \n",
    "        for(int i=0; i!=selected; i++,it++);\n",
    "        ticket_number = *it;\n",
    "          \n",
    "        vacant_tickets.erase(ticket_number);    \n",
    "        selected_tickets[name] = ticket_number;\n",
    "\n",
    "        return true;\n",
    "    }\n",
    "    \n",
    "    _update_ void print_tickets(){\n",
    "        for(auto& t: selected_tickets){\n",
    "            cout << \"         Name:\" << t.first  << endl\n",
    "                 << \"Ticket number:\" << t.second << endl << endl;\n",
    "        }\n",
    "    }\n",
    "    \n",
    "private:\n",
    "    set<int>        vacant_tickets;\n",
    "    map<string,int> selected_tickets;\n",
    "};"
   ]
  },
  {
   "cell_type": "code",
   "execution_count": null,
   "id": "e2ad944c-be0e-4c65-bd5d-c50a2b2c615b",
   "metadata": {},
   "outputs": [],
   "source": []
  }
 ],
 "metadata": {
  "kernelspec": {
   "display_name": "C++17",
   "language": "C++17",
   "name": "xcpp17"
  },
  "language_info": {
   "codemirror_mode": "text/x-c++src",
   "file_extension": ".cpp",
   "mimetype": "text/x-c++src",
   "name": "c++",
   "version": "17"
  }
 },
 "nbformat": 4,
 "nbformat_minor": 5
}
