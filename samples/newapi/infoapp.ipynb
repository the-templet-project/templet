{
 "cells": [
  {
   "cell_type": "code",
   "execution_count": null,
   "id": "f6d24b6b-33a5-427e-bf44-64b27fee444e",
   "metadata": {},
   "outputs": [],
   "source": [
    "#include <string>\n",
    "#include <set>\n",
    "#include <map>\n",
    "#include <iostream>\n",
    "#include \"infoapi.hpp\"\n",
    "\n",
    "using namespace std;\n",
    "\n",
    "class TicketsObject: public DataObject{\n",
    "public:\n",
    "    TicketsObject(unsigned pid, EventLog&log):DataObject(pid,log),\n",
    "        get_ticket_transaction(*this){\n",
    "            for(int n=1; n<=5; n++) vacant_tickets.insert(n);\n",
    "        }\n",
    "public:\n",
    "    bool get_ticket(const string&name,int&ticket_number){\n",
    "        \n",
    "        get_ticket_transaction.name = name;\n",
    "        get_ticket_transaction.rand_num = rand();\n",
    "        \n",
    "        get_ticket_transaction.run();\n",
    "\n",
    "        if(selected_tickets.find(name)==selected_tickets.end()) return false;\n",
    "        \n",
    "        ticket_number=selected_tickets[name];\n",
    "        return true;\n",
    "    }\n",
    "    void print_tickets(){\n",
    "        update();\n",
    "        for(auto& t: selected_tickets){\n",
    "            cout << \"         Name:\" << t.first  << endl\n",
    "                 << \"Ticket number:\" << t.second << endl << endl;\n",
    "        }\n",
    "    }\n",
    "private:\n",
    "    class GetTicket: public Transaction{\n",
    "    public:\n",
    "        GetTicket(TicketsObject&td):Transaction(td),data(td){}\n",
    "    public:\n",
    "        string name;\n",
    "        int    rand_num;\n",
    "    private:\n",
    "        void on_run()override{\n",
    "            if(data.vacant_tickets.size()==0 ||\n",
    "                data.selected_tickets.find(name)!=data.selected_tickets.end()) return;\n",
    "                \n",
    "            int selected = rand_num % data.vacant_tickets.size();\n",
    "            set<int>::iterator it = data.vacant_tickets.begin();\n",
    "            for(int i=0; i!=selected; i++,it++);\n",
    "            int ticket_number = *it;\n",
    "          \n",
    "            data.vacant_tickets.erase(ticket_number);    \n",
    "            data.selected_tickets[name] = ticket_number;\n",
    "        }\n",
    "    private:\n",
    "        TicketsObject& data;\n",
    "        void on_save(ostream&out)override{ out << rand_num << endl << name;  }\n",
    "        void on_load(istream&in)override{  in >> rand_num >> name; }\n",
    "\n",
    "    } get_ticket_transaction;\n",
    "\n",
    "public:\n",
    "    set<int>        vacant_tickets;\n",
    "    map<string,int> selected_tickets;\n",
    "};"
   ]
  },
  {
   "cell_type": "code",
   "execution_count": null,
   "id": "9923b8a8-8718-47c1-82fd-e2e61af683a0",
   "metadata": {},
   "outputs": [],
   "source": [
    "EventLog event_log;"
   ]
  },
  {
   "cell_type": "code",
   "execution_count": null,
   "id": "43f7ff15-2099-44ae-82ed-b30c4b184637",
   "metadata": {},
   "outputs": [],
   "source": [
    "{// Getting a ticket.\n",
    "    TicketsObject tickets_object(0,event_log);\n",
    "    \n",
    "    string name;\n",
    "    int ticket_number;\n",
    "    \n",
    "    cout << \"Please, print your name:\" << endl; \n",
    "    cin >> name;\n",
    "    \n",
    "    if(tickets_object.get_ticket(name,ticket_number))\n",
    "        cout << \"Your ticket number is:\" << ticket_number << endl;\n",
    "    else\n",
    "        cout << \"You're late. There are no tickets left.\" << endl;     \n",
    "}"
   ]
  },
  {
   "cell_type": "code",
   "execution_count": null,
   "id": "ed410753-f1c0-4af0-b5d3-f4e6fbae931b",
   "metadata": {},
   "outputs": [],
   "source": [
    "{//Printing all tickets.\n",
    "    TicketsObject tickets_object(1,event_log);\n",
    "    tickets_object.print_tickets();\n",
    "}"
   ]
  },
  {
   "cell_type": "code",
   "execution_count": null,
   "id": "27016acc-c9b2-4c22-8cb4-8cb4f32686e6",
   "metadata": {},
   "outputs": [],
   "source": []
  }
 ],
 "metadata": {
  "kernelspec": {
   "display_name": "C++17",
   "language": "C++17",
   "name": "xcpp17"
  },
  "language_info": {
   "codemirror_mode": "text/x-c++src",
   "file_extension": ".cpp",
   "mimetype": "text/x-c++src",
   "name": "c++",
   "version": "17"
  }
 },
 "nbformat": 4,
 "nbformat_minor": 5
}
