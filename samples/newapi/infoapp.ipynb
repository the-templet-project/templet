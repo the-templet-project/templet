{
 "cells": [
  {
   "cell_type": "code",
   "execution_count": 1,
   "id": "e8b52de3-44c1-4d5e-bb74-dcaae943b4eb",
   "metadata": {},
   "outputs": [],
   "source": [
    "#include <stdlib.h>\n",
    "#include <iostream>\n",
    "#include \"infoapi.hpp\"\n",
    "\n",
    "struct Ticket: public Record{\n",
    "    string name;\n",
    "    int    number;\n",
    "    void on_save(ostream&out){ out << number << endl << name << endl; }\n",
    "    void on_load(istream&in) { in >> number >> name; }\n",
    "};\n",
    "\n",
    "enum OP { GET_TICKET, PRINT_TICKETS };\n",
    "\n",
    "class TicketsDatabase: public DatabaseWorker{\n",
    "public:\n",
    "    TicketsDatabase(unsigned pid, EventLog&log):DatabaseWorker(pid,log){}\n",
    "private:\n",
    "    void on_run(int tag)override{\n",
    "        switch(tag)\n",
    "        {\n",
    "            case OP::GET_TICKET:\n",
    "            {\n",
    "                Ticket my_ticket;\n",
    "IO_SECTION_BEGIN\n",
    "                cout << \"Please, print your name:\" << endl; \n",
    "                cin >> my_ticket.name;\n",
    "                my_ticket.number = rand()/25 + 1;\n",
    "IO_SECTION_END\n",
    "                \n",
    "IO_SYNC_POINT(my_ticket)\n",
    "                \n",
    "                if(tickets.find(my_ticket.name)!=tickets.end()){\n",
    "IO_SECTION_BEGIN\n",
    "                    cout << \"Your already took the ticket.\";\n",
    "IO_SECTION_END\n",
    "                    return;\n",
    "                }\n",
    "                tickets[my_ticket.name] = my_ticket.number;\n",
    "IO_SECTION_BEGIN                \n",
    "                cout << \"Your ticket number is:\" << my_ticket.number;\n",
    "IO_SECTION_END                \n",
    "                break;\n",
    "            }\n",
    "            case OP::PRINT_TICKETS:\n",
    "            {\n",
    "IO_SECTION_BEGIN\n",
    "                for(auto& t: tickets){\n",
    "                    cout << \"         Name:\" << t.first  << endl\n",
    "                         << \"Ticket number:\" << t.second << endl << endl;\n",
    "                }\n",
    "IO_SECTION_END\n",
    "            }\n",
    "        }\n",
    "    }\n",
    "    map<string,int> tickets;\n",
    "};\n",
    "\n",
    "EventLog event_log;"
   ]
  },
  {
   "cell_type": "code",
   "execution_count": 2,
   "id": "f6c4101d-e9fa-4523-a35c-9c6a30fb2d65",
   "metadata": {},
   "outputs": [],
   "source": [
    "{\n",
    "    TicketsDatabase tickets(0,event_log);\n",
    "    tickets.run(OP::GET_TICKET);\n",
    "}"
   ]
  },
  {
   "cell_type": "code",
   "execution_count": 3,
   "id": "3f3af38f-14d6-4a6e-82cc-a01bc88d1d19",
   "metadata": {},
   "outputs": [],
   "source": [
    "{\n",
    "    TicketsDatabase tickets(1,event_log);\n",
    "    tickets.run(OP::PRINT_TICKETS);\n",
    "}"
   ]
  },
  {
   "cell_type": "code",
   "execution_count": null,
   "id": "f6d24b6b-33a5-427e-bf44-64b27fee444e",
   "metadata": {},
   "outputs": [],
   "source": []
  }
 ],
 "metadata": {
  "kernelspec": {
   "display_name": "C++17",
   "language": "C++17",
   "name": "xcpp17"
  },
  "language_info": {
   "codemirror_mode": "text/x-c++src",
   "file_extension": ".cpp",
   "mimetype": "text/x-c++src",
   "name": "c++",
   "version": "17"
  }
 },
 "nbformat": 4,
 "nbformat_minor": 5
}
