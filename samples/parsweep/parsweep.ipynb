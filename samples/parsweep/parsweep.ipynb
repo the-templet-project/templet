{
 "cells": [
  {
   "cell_type": "raw",
   "metadata": {},
   "source": [
    "process #pragma templet ...  in 'parsweep.hpp' file (reload the file after processing, if needed)"
   ]
  },
  {
   "cell_type": "code",
   "execution_count": 1,
   "metadata": {},
   "outputs": [
    {
     "name": "stdout",
     "output_type": "stream",
     "text": [
      "line:51\n",
      "!worker(r!request,t:everest)\n",
      "line:117\n",
      "master(r?request)\n",
      "Ok"
     ]
    }
   ],
   "source": [
    "!~/bin/acta parsweep.hpp"
   ]
  },
  {
   "cell_type": "raw",
   "metadata": {},
   "source": [
    "get Everest access token using password authentication"
   ]
  },
  {
   "cell_type": "code",
   "execution_count": null,
   "metadata": {},
   "outputs": [],
   "source": [
    "#pragma cling load(\"libcurl\")\n",
    "#include \"../../lib/everest.hpp\"\n",
    "{\n",
    "    templet::everest_engine teng(\"everest-login\",\"everest-password\");\n",
    "    teng.save_access_token();\n",
    "    if (teng) { string token; teng.get_access_token(token); std::cout << token;}\n",
    "    else {std::cout << \"--- authentication failed ---\";}\n",
    "}"
   ]
  },
  {
   "cell_type": "raw",
   "metadata": {},
   "source": [
    "get Everest application(s) description using access token and application name"
   ]
  },
  {
   "cell_type": "code",
   "execution_count": null,
   "metadata": {},
   "outputs": [],
   "source": [
    "#pragma cling load(\"libcurl\")\n",
    "#include \"../../lib/everest.hpp\"\n",
    "{\n",
    "    templet::everest_engine teng(\"everest-access-token\");\n",
    "    teng.print_app_description(\"lyapunov\");\n",
    "}"
   ]
  },
  {
   "cell_type": "raw",
   "metadata": {},
   "source": [
    "run parsweep sample"
   ]
  },
  {
   "cell_type": "code",
   "execution_count": null,
   "metadata": {},
   "outputs": [],
   "source": [
    "#pragma cling load(\"libcurl\")\n",
    "#pragma cling add_include_path(\"../../lib/\")\n",
    "#include \"parsweep.hpp\"\n",
    "#include <chrono>\n",
    "#include <random>\n",
    "{\n",
    "   \n",
    "\tapp_ID = (char*)\"everest-application-ID\";\n",
    "    maple_code = \"./everest-app/code.txt\";\n",
    "\t\n",
    "\tNUM_TASKS = 2;\n",
    "\t// set NUM_WORKERS in 'parsweep.hpp' if needed\n",
    "\n",
    "\trho = new double[NUM_TASKS];\n",
    "\tsigma = new double[NUM_TASKS];\n",
    "\tbeta = new double[NUM_TASKS];\n",
    "    \n",
    "    std::random_device rd;\n",
    "    std::mt19937 gen(rd());\n",
    "    \n",
    "    std::uniform_real_distribution<> dist_rho(-1.0,1.0);\n",
    "    std::uniform_real_distribution<> dist_sigma(-1.0,1.0);\n",
    "    std::uniform_real_distribution<> dist_beta(-1.0,1.0);\n",
    "    \n",
    "    for(int i=0; i<NUM_TASKS; i++){\n",
    "        rho[i]   = 28.0 + dist_rho(gen);\n",
    "        sigma[i] = 10.0 + dist_sigma(gen);\n",
    "        beta[i]  = 2.66666 + dist_beta(gen);\n",
    "    }\n",
    "\n",
    "\ttemplet::engine eng;\n",
    "\ttemplet::everest_engine teng(\"everest-access-token\");\n",
    " \n",
    "\tmaster mst(eng);\n",
    "\tworker wks[NUM_WORKERS];\n",
    "\n",
    "\tfor (int i = 0; i < NUM_WORKERS; i++) {\n",
    "\t\twks[i].engines(eng, teng);\n",
    "\t\tmst.r(wks[i].r);\n",
    "\t}\n",
    "    \n",
    "    auto start = std::chrono::high_resolution_clock::now();\n",
    "\teng.start();\n",
    "\tteng.run();\n",
    "    auto end = std::chrono::high_resolution_clock::now();\n",
    "\t\n",
    "   if (!eng.stopped()) {\n",
    "\t\ttemplet::everest_error err;\n",
    "\t\tif (teng.error(&err)) templet::everest_engine::print_error(&err);\n",
    "\t\telse cout << \"Logical error(((\";\n",
    "\t}\n",
    "    else{ \n",
    "        cout << \"Success!!!\\n\";\n",
    "        std::chrono::duration<double> diff = end-start;\n",
    "        cout << \"Computation time is \" << diff.count() << \" seconds\";\n",
    "    }\n",
    "}"
   ]
  }
 ],
 "metadata": {
  "kernelspec": {
   "display_name": "C++14",
   "language": "C++14",
   "name": "xcpp14"
  },
  "language_info": {
   "codemirror_mode": "text/x-c++src",
   "file_extension": ".cpp",
   "mimetype": "text/x-c++src",
   "name": "c++",
   "version": "-std=c++14"
  }
 },
 "nbformat": 4,
 "nbformat_minor": 4
}
