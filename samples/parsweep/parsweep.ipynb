{
 "cells": [
  {
   "cell_type": "markdown",
   "metadata": {},
   "source": [
    "```\n",
    "process #pragma templet ...  in 'parsweep.hpp' file (reload the file after processing, if needed)\n",
    "```"
   ]
  },
  {
   "cell_type": "code",
   "execution_count": null,
   "metadata": {},
   "outputs": [],
   "source": [
    "!../../bin/acta parsweep.hpp"
   ]
  },
  {
   "cell_type": "markdown",
   "metadata": {},
   "source": [
    "```\n",
    "get Everest access token using password authentication\n",
    "```"
   ]
  },
  {
   "cell_type": "code",
   "execution_count": null,
   "metadata": {},
   "outputs": [],
   "source": [
    "#pragma cling load(\"libcurl\")\n",
    "#pragma cling add_include_path(\"../../lib/opt\")\n",
    "#include \"../../lib/everest.hpp\"\n",
    "{\n",
    "    templet::everest_engine teng(\"everest-login\",\"everest-password\");\n",
    "    teng.save_access_token();\n",
    "    if (teng) { string token; teng.get_access_token(token); std::cout << token;}\n",
    "    else {std::cout << \"--- authentication failed ---\";}\n",
    "}"
   ]
  },
  {
   "cell_type": "markdown",
   "metadata": {},
   "source": [
    "```\n",
    "get Everest application(s) description using access token and application name\n",
    "```"
   ]
  },
  {
   "cell_type": "code",
   "execution_count": null,
   "metadata": {},
   "outputs": [],
   "source": [
    "#pragma cling load(\"libcurl\")\n",
    "#pragma cling add_include_path(\"../../lib/opt\")\n",
    "#include \"../../lib/everest.hpp\"\n",
    "{\n",
    "    templet::everest_engine teng(\"everest-access-token\");\n",
    "    teng.print_app_description(\"lyapunov\");\n",
    "}"
   ]
  },
  {
   "cell_type": "markdown",
   "metadata": {},
   "source": [
    "```\n",
    "run parsweep sample\n",
    "```"
   ]
  },
  {
   "cell_type": "code",
   "execution_count": null,
   "metadata": {},
   "outputs": [],
   "source": [
    "#pragma cling load(\"libcurl\")\n",
    "#pragma cling add_include_path(\"../../lib/opt\")\n",
    "#pragma cling add_include_path(\"../../lib/\")\n",
    "#include \"parsweep.hpp\"\n",
    "#include <chrono>\n",
    "#include <random>\n",
    "{\n",
    "   \n",
    "\tapp_ID = \"everest-application-ID\";\n",
    "    maple_code = \"./everest-app/code.txt\";\n",
    "\t\n",
    "\tNUM_TASKS = 2;\n",
    "\t// set NUM_WORKERS in 'parsweep.hpp' if needed\n",
    "\n",
    "\tRHO = new double[NUM_TASKS];\n",
    "\tSIGMA = new double[NUM_TASKS];\n",
    "\tBETA = new double[NUM_TASKS];\n",
    "    \n",
    "    std::random_device rd;\n",
    "    std::mt19937 gen(rd());\n",
    "    \n",
    "    std::uniform_real_distribution<> dist_rho(-1.0,1.0);\n",
    "    std::uniform_real_distribution<> dist_sigma(-1.0,1.0);\n",
    "    std::uniform_real_distribution<> dist_beta(-1.0,1.0);\n",
    "    \n",
    "    for(int i=0; i<NUM_TASKS; i++){\n",
    "        RHO[i]   = 28.0 + dist_rho(gen);\n",
    "        SIGMA[i] = 10.0 + dist_sigma(gen);\n",
    "        BETA[i]  = 2.66666 + dist_beta(gen);\n",
    "    }\n",
    "\n",
    "\ttemplet::engine eng;\n",
    "\ttemplet::everest_engine teng(\"everest-access-token\");\n",
    " \n",
    "\tmaster mst(eng);\n",
    "\tworker wks[NUM_WORKERS];\n",
    "\n",
    "\tfor (int i = 0; i < NUM_WORKERS; i++) {\n",
    "\t\twks[i].engines(eng, teng);\n",
    "\t\tmst.r(wks[i].r);\n",
    "\t}\n",
    "    \n",
    "    auto start = std::chrono::high_resolution_clock::now();\n",
    "\teng.start();\n",
    "\tteng.run();\n",
    "    auto end = std::chrono::high_resolution_clock::now();\n",
    "\t\n",
    "   if (!eng.stopped()) {\n",
    "\t\ttemplet::everest_error err;\n",
    "\t\tif (teng.error(&err)) templet::everest_engine::print_error(&err);\n",
    "\t\telse cout << \"Logical error(((\";\n",
    "\t}\n",
    "    else{ \n",
    "        cout << \"Success!!!\\n\";\n",
    "        std::chrono::duration<double> diff = end-start;\n",
    "        cout << \"Computation time is \" << diff.count() << \" seconds\";\n",
    "    }\n",
    "}"
   ]
  },
  {
   "cell_type": "markdown",
   "metadata": {},
   "source": [
    "```\n",
    "compile 'parsweep.cpp' file\n",
    "```"
   ]
  },
  {
   "cell_type": "code",
   "execution_count": null,
   "metadata": {},
   "outputs": [],
   "source": [
    "!g++ parsweep.cpp -l curl -I ../../lib -I ../../lib/opt -o parsweep"
   ]
  },
  {
   "cell_type": "markdown",
   "metadata": {},
   "source": [
    "```\n",
    "run 'parsweep'\n",
    "```"
   ]
  },
  {
   "cell_type": "code",
   "execution_count": null,
   "metadata": {},
   "outputs": [],
   "source": [
    "!./parsweep"
   ]
  }
 ],
 "metadata": {
  "kernelspec": {
   "display_name": "C++14",
   "language": "C++14",
   "name": "xcpp14"
  },
  "language_info": {
   "codemirror_mode": "text/x-c++src",
   "file_extension": ".cpp",
   "mimetype": "text/x-c++src",
   "name": "c++",
   "version": "14"
  }
 },
 "nbformat": 4,
 "nbformat_minor": 4
}
