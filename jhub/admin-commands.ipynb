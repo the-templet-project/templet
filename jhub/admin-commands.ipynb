{
 "cells": [
  {
   "cell_type": "markdown",
   "id": "8a088148-be84-485e-b0ab-68874d3f3aac",
   "metadata": {},
   "source": [
    "# Часто используемые команды управления *The Littlest JupyterHub*"
   ]
  },
  {
   "cell_type": "markdown",
   "id": "c089f815-15f7-4796-b424-c77f44082fe7",
   "metadata": {},
   "source": [
    "#### Посмотреть текущие настройки:"
   ]
  },
  {
   "cell_type": "code",
   "execution_count": null,
   "id": "ff4d1ff4-4472-450c-a8ed-636777b47b38",
   "metadata": {
    "scrolled": true
   },
   "outputs": [],
   "source": [
    "!sudo tljh-config show"
   ]
  },
  {
   "cell_type": "markdown",
   "id": "b210c133-68c0-43b2-9117-4ccdb61ff238",
   "metadata": {},
   "source": [
    "#### Включение/отключение функции автоматической регистрации в системе:"
   ]
  },
  {
   "cell_type": "code",
   "execution_count": 10,
   "id": "fc69e813-2e61-45e0-9ea1-fc8ec89301c4",
   "metadata": {},
   "outputs": [],
   "source": [
    "!sudo tljh-config set auth.FirstUseAuthenticator.create_users true"
   ]
  },
  {
   "cell_type": "code",
   "execution_count": 11,
   "id": "e0e18903-29b7-44c8-a290-f0160a8f379d",
   "metadata": {},
   "outputs": [],
   "source": [
    "!sudo tljh-config set auth.FirstUseAuthenticator.create_users false"
   ]
  },
  {
   "cell_type": "code",
   "execution_count": null,
   "id": "23b4f63b-a8ac-4f59-8cbe-8d10bcba34ad",
   "metadata": {
    "scrolled": true
   },
   "outputs": [],
   "source": [
    "!sudo tljh-config show"
   ]
  },
  {
   "cell_type": "code",
   "execution_count": null,
   "id": "253a17f3-7334-497a-bfda-cf26a21afba7",
   "metadata": {},
   "outputs": [],
   "source": [
    "!sudo tljh-config reload"
   ]
  },
  {
   "cell_type": "markdown",
   "id": "34c73ba9-cd07-49f0-9bee-4373d22f1554",
   "metadata": {},
   "source": [
    "##### по умолчанию - отключено"
   ]
  },
  {
   "cell_type": "code",
   "execution_count": null,
   "id": "e98565d9-510d-4808-9e0e-a0586472374d",
   "metadata": {},
   "outputs": [],
   "source": [
    "!sudo tljh-config unset auth.FirstUseAuthenticator.create_users"
   ]
  },
  {
   "cell_type": "markdown",
   "id": "fbf70922-c054-4496-bd86-71dfcba2461b",
   "metadata": {},
   "source": [
    "#### Ограничение на время работы ноутбук-сервера при отсутсвии активности пользователя (секунды):"
   ]
  },
  {
   "cell_type": "code",
   "execution_count": 5,
   "id": "39b1c47c-dfae-4e19-b721-b7cb78d05637",
   "metadata": {},
   "outputs": [],
   "source": [
    "!sudo tljh-config set services.cull.timeout 600"
   ]
  },
  {
   "cell_type": "code",
   "execution_count": null,
   "id": "4e36d1ef-26c8-435a-8953-eb47e0762717",
   "metadata": {
    "scrolled": true
   },
   "outputs": [],
   "source": [
    "!sudo tljh-config show"
   ]
  },
  {
   "cell_type": "code",
   "execution_count": null,
   "id": "100340d4-323d-40fd-88f8-c439b2a9e97d",
   "metadata": {},
   "outputs": [],
   "source": [
    "!sudo tljh-config reload"
   ]
  },
  {
   "cell_type": "markdown",
   "id": "44241a9a-b4a9-4113-8d9c-d5bf20b3ba51",
   "metadata": {},
   "source": [
    "##### по умолчанию - 600 секунд"
   ]
  },
  {
   "cell_type": "code",
   "execution_count": null,
   "id": "57c983db-7d2d-46f7-85a2-1e6791a3f1a5",
   "metadata": {},
   "outputs": [],
   "source": [
    "!sudo tljh-config unset services.cull.timeout"
   ]
  },
  {
   "cell_type": "markdown",
   "id": "1374ad88-f1c4-4ec6-a244-f1cade66c196",
   "metadata": {},
   "source": [
    "#### Ограничение на общее время работы активного ноутбук-сервера (секунды):"
   ]
  },
  {
   "cell_type": "code",
   "execution_count": null,
   "id": "c05ade5b-9c18-46e9-a121-32d779a22adb",
   "metadata": {},
   "outputs": [],
   "source": [
    "!sudo tljh-config set services.cull.max_age 0"
   ]
  },
  {
   "cell_type": "code",
   "execution_count": null,
   "id": "65922bbc-8da5-45b2-9e56-f75c4ac5efd3",
   "metadata": {},
   "outputs": [],
   "source": [
    "!sudo tljh-config show"
   ]
  },
  {
   "cell_type": "code",
   "execution_count": null,
   "id": "e93c9be3-8fda-4328-a7b1-dd35032a0744",
   "metadata": {},
   "outputs": [],
   "source": [
    "!sudo tljh-config reload"
   ]
  },
  {
   "cell_type": "markdown",
   "id": "2ed700b3-9040-4ed9-bebd-ffa3ae9efa65",
   "metadata": {},
   "source": [
    "##### по умолчанию или когда установлен на '0' - ограничения на время работы нет"
   ]
  },
  {
   "cell_type": "code",
   "execution_count": null,
   "id": "3288751a-8ff6-49e9-bd57-ea48184e479f",
   "metadata": {},
   "outputs": [],
   "source": [
    "!sudo tljh-config unset services.cull.max_age"
   ]
  },
  {
   "cell_type": "markdown",
   "id": "eb8a9249-d3e2-4f38-9d21-da69fe1272f6",
   "metadata": {},
   "source": [
    "#### Период опроса времени работы ноутбук-серверов (секунды):"
   ]
  },
  {
   "cell_type": "code",
   "execution_count": null,
   "id": "771d0f25-d49c-4569-aae9-7512c52ab97c",
   "metadata": {},
   "outputs": [],
   "source": [
    "!sudo tljh-config set services.cull.every 60"
   ]
  },
  {
   "cell_type": "code",
   "execution_count": null,
   "id": "799ec80c-c5ac-4271-94d2-05e5ee578aaf",
   "metadata": {},
   "outputs": [],
   "source": [
    "!sudo tljh-config show"
   ]
  },
  {
   "cell_type": "code",
   "execution_count": null,
   "id": "0bd849b2-0d38-46e9-b27a-57f1a8b444ea",
   "metadata": {},
   "outputs": [],
   "source": [
    "!sudo tljh-config reload"
   ]
  },
  {
   "cell_type": "markdown",
   "id": "1148fa33-9fba-4a00-8a32-23f5fc07ec39",
   "metadata": {},
   "source": [
    "##### по умолчанию - 60 секунд"
   ]
  },
  {
   "cell_type": "code",
   "execution_count": null,
   "id": "df3c6c9b-8cc1-4aac-8668-30ffe0d83cf2",
   "metadata": {},
   "outputs": [],
   "source": [
    "!sudo tljh-config unset services.cull.every"
   ]
  },
  {
   "cell_type": "markdown",
   "id": "d9d49d1b-9a2d-46cc-91b4-bd7360678a50",
   "metadata": {},
   "source": [
    "#### Ограничение на размер дискового пространства пользователя (без суффикса-байты, K-килобайты, M-мегабайты, G-гигабайты, T-терабайты):"
   ]
  },
  {
   "cell_type": "code",
   "execution_count": null,
   "id": "c47e6202-0abf-4cbd-867a-afcdb0316a58",
   "metadata": {},
   "outputs": [],
   "source": [
    "!sudo tljh-config set limits.memory 100M"
   ]
  },
  {
   "cell_type": "code",
   "execution_count": null,
   "id": "e4d26b90-bfee-4b2f-ac9d-06172b9e9327",
   "metadata": {},
   "outputs": [],
   "source": [
    "!sudo tljh-config show"
   ]
  },
  {
   "cell_type": "code",
   "execution_count": null,
   "id": "631ef357-1d6c-4909-91d9-ba4b6903824c",
   "metadata": {},
   "outputs": [],
   "source": [
    "!sudo tljh-config reload"
   ]
  },
  {
   "cell_type": "markdown",
   "id": "21458bda-2ad8-41bc-a139-02612f5d94f5",
   "metadata": {},
   "source": [
    "##### по умолчанию - ограничение на размер дискового пространства пользователя отсутствует"
   ]
  },
  {
   "cell_type": "code",
   "execution_count": null,
   "id": "296cecb9-aa17-49ea-9a95-d3459b2d4622",
   "metadata": {},
   "outputs": [],
   "source": [
    "!sudo tljh-config unset limits.memory"
   ]
  },
  {
   "cell_type": "markdown",
   "id": "15966905-9354-4981-95f7-894fbbde5896",
   "metadata": {},
   "source": [
    "#### Ограничение на использование ЦПУ одним пользователем (количество ядер или частей ядер):"
   ]
  },
  {
   "cell_type": "code",
   "execution_count": null,
   "id": "36c1189e-37ee-45b4-adc6-6b03514977ef",
   "metadata": {},
   "outputs": [],
   "source": [
    "!sudo tljh-config set limits.cpu 0.5"
   ]
  },
  {
   "cell_type": "code",
   "execution_count": null,
   "id": "0b6d429a-6dfa-4a08-9637-101f1f503b5c",
   "metadata": {},
   "outputs": [],
   "source": [
    "!sudo tljh-config show"
   ]
  },
  {
   "cell_type": "code",
   "execution_count": null,
   "id": "fe941e51-107a-448e-8948-daf7f4e6bab9",
   "metadata": {},
   "outputs": [],
   "source": [
    "!sudo tljh-config reload"
   ]
  },
  {
   "cell_type": "markdown",
   "id": "eb22f1bc-bc27-4974-85e9-7ce1aea1c044",
   "metadata": {},
   "source": [
    "##### по умолчанию - ограничение на число используемых пользователем ЦПУ отсутствует"
   ]
  },
  {
   "cell_type": "code",
   "execution_count": null,
   "id": "e5c35829-03fa-4670-8b15-ff87ac83d5b7",
   "metadata": {},
   "outputs": [],
   "source": [
    "!sudo tljh-config unset limits.cpu"
   ]
  }
 ],
 "metadata": {
  "kernelspec": {
   "display_name": "Python 3 (ipykernel)",
   "language": "python",
   "name": "python3"
  },
  "language_info": {
   "codemirror_mode": {
    "name": "ipython",
    "version": 3
   },
   "file_extension": ".py",
   "mimetype": "text/x-python",
   "name": "python",
   "nbconvert_exporter": "python",
   "pygments_lexer": "ipython3",
   "version": "3.10.10"
  }
 },
 "nbformat": 4,
 "nbformat_minor": 5
}
