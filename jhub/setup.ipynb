{
 "cells": [
  {
   "cell_type": "code",
   "execution_count": 3,
   "id": "8bf6616e-2897-45e0-ac98-e70dbf5352a2",
   "metadata": {},
   "outputs": [],
   "source": [
    "!chmod 755 ./setup.sh"
   ]
  },
  {
   "cell_type": "code",
   "execution_count": 4,
   "id": "8255f447-9183-4e7c-8309-010ce9c859d3",
   "metadata": {},
   "outputs": [],
   "source": [
    "!./setup.sh"
   ]
  }
 ],
 "metadata": {
  "kernelspec": {
   "display_name": "Python 3 (ipykernel)",
   "language": "python",
   "name": "python3"
  },
  "language_info": {
   "codemirror_mode": {
    "name": "ipython",
    "version": 3
   },
   "file_extension": ".py",
   "mimetype": "text/x-python",
   "name": "python",
   "nbconvert_exporter": "python",
   "pygments_lexer": "ipython3",
   "version": "3.10.10"
  }
 },
 "nbformat": 4,
 "nbformat_minor": 5
}
