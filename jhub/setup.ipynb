{
 "cells": [
  {
   "cell_type": "markdown",
   "id": "28c3482d-9d87-4882-8088-2f0e04525aa6",
   "metadata": {},
   "source": [
    "Добро пожаловать в виртуальную среду для работы с инструментами проекта Templet!\n",
    "--------------------------------------------------------------------------------\n",
    "**Информация о проекте на сайте GitHub:** [TEMPLET -- a framework for actor-task computing](https://github.com/the-templet-project/templet/blob/master/README.md) \n",
    "\n",
    "**Для начальной настройки инструментов** выполните ячейку ниже, например, нажав '*Shift+Enter*'.\n",
    "\n",
    "**Для перехода в многооконный режим** нажмите кнопку *JupyterLab* на панели инструментов или выполените команду в главном меню '*View| Open JupyterLab*'."
   ]
  },
  {
   "cell_type": "code",
   "execution_count": null,
   "id": "8bf6616e-2897-45e0-ac98-e70dbf5352a2",
   "metadata": {
    "scrolled": true
   },
   "outputs": [],
   "source": [
    "!chmod 755 ./setup.sh; ./setup.sh"
   ]
  }
 ],
 "metadata": {
  "kernelspec": {
   "display_name": "Python 3 (ipykernel)",
   "language": "python",
   "name": "python3"
  },
  "language_info": {
   "codemirror_mode": {
    "name": "ipython",
    "version": 3
   },
   "file_extension": ".py",
   "mimetype": "text/x-python",
   "name": "python",
   "nbconvert_exporter": "python",
   "pygments_lexer": "ipython3",
   "version": "3.10.10"
  }
 },
 "nbformat": 4,
 "nbformat_minor": 5
}
