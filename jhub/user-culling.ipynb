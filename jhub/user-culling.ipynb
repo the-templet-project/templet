{
 "cells": [
  {
   "cell_type": "markdown",
   "id": "4444e97e-6fff-48ef-83ca-e69f5b88b1c0",
   "metadata": {},
   "source": [
    "#### Ограничение на время действия регистрации пользователя в системе (секунды):"
   ]
  },
  {
   "cell_type": "markdown",
   "id": "0a577f02-2822-4bf4-98a8-62828517a539",
   "metadata": {},
   "source": [
    "#### Включение/отключение лимита действия регистрации пользователя в системе:"
   ]
  },
  {
   "cell_type": "markdown",
   "id": "e79ea21b-8bb4-44ab-9ffd-3c1c52654a6f",
   "metadata": {},
   "source": [
    "#### Период опроса времени действия ограничений на регистрацию пользователей (секунды):"
   ]
  }
 ],
 "metadata": {
  "kernelspec": {
   "display_name": "Python 3 (ipykernel)",
   "language": "python",
   "name": "python3"
  },
  "language_info": {
   "codemirror_mode": {
    "name": "ipython",
    "version": 3
   },
   "file_extension": ".py",
   "mimetype": "text/x-python",
   "name": "python",
   "nbconvert_exporter": "python",
   "pygments_lexer": "ipython3",
   "version": "3.10.10"
  }
 },
 "nbformat": 4,
 "nbformat_minor": 5
}
