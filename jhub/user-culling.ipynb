{
 "cells": [
  {
   "cell_type": "markdown",
   "id": "4444e97e-6fff-48ef-83ca-e69f5b88b1c0",
   "metadata": {},
   "source": [
    "#### Включение/выключение функции удаления неактивных пользователей:\n",
    "\n",
    ">**ВАЖНО!** Если Ваш пользователь станет неактивным, он также будет удален, даже если является администратором."
   ]
  },
  {
   "cell_type": "code",
   "execution_count": null,
   "id": "a48269e7-9a8c-436b-9cc6-11a4435a669e",
   "metadata": {},
   "outputs": [],
   "source": [
    "sudo tljh-config set services.cull.users True"
   ]
  },
  {
   "cell_type": "code",
   "execution_count": null,
   "id": "f54acf68-b2c7-4afa-96b2-99fec20c155e",
   "metadata": {},
   "outputs": [],
   "source": [
    "sudo tljh-config set services.cull.users False"
   ]
  },
  {
   "cell_type": "code",
   "execution_count": null,
   "id": "c8cd6a4a-0d0d-40da-99cc-6ec74336992d",
   "metadata": {},
   "outputs": [],
   "source": [
    "!sudo tljh-config show"
   ]
  },
  {
   "cell_type": "code",
   "execution_count": null,
   "id": "968bd916-f03f-4341-bdab-f711a8dca68a",
   "metadata": {},
   "outputs": [],
   "source": [
    "!sudo tljh-config reload"
   ]
  },
  {
   "cell_type": "markdown",
   "id": "6a6aab21-bcbe-40d0-949a-a6fa60a75f14",
   "metadata": {},
   "source": [
    "##### по умолчанию неактивные пользователи не удаляются"
   ]
  },
  {
   "cell_type": "code",
   "execution_count": null,
   "id": "2fcf47db-ee5a-4cdc-ba5d-986080686fc3",
   "metadata": {},
   "outputs": [],
   "source": [
    "!sudo tljh-config unset services.cull.users"
   ]
  },
  {
   "cell_type": "markdown",
   "id": "0a577f02-2822-4bf4-98a8-62828517a539",
   "metadata": {},
   "source": [
    "#### Просмотр списка рабочих каталогов удаленных пользователей:"
   ]
  },
  {
   "cell_type": "markdown",
   "id": "e79ea21b-8bb4-44ab-9ffd-3c1c52654a6f",
   "metadata": {},
   "source": [
    "#### Удаление рабочих каталогов удаленных пользователей:"
   ]
  }
 ],
 "metadata": {
  "kernelspec": {
   "display_name": "Python 3 (ipykernel)",
   "language": "python",
   "name": "python3"
  },
  "language_info": {
   "codemirror_mode": {
    "name": "ipython",
    "version": 3
   },
   "file_extension": ".py",
   "mimetype": "text/x-python",
   "name": "python",
   "nbconvert_exporter": "python",
   "pygments_lexer": "ipython3",
   "version": "3.10.10"
  }
 },
 "nbformat": 4,
 "nbformat_minor": 5
}
